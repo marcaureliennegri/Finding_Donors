{
 "cells": [
  {
   "cell_type": "markdown",
   "metadata": {},
   "source": [
    "In this project, I employ several supervised learning algorithms to model individuals’ income using data collected from the 1994 US Census. The goal of the project is to construct a model that accurately predicts whether an individual makes more than $50,000.\n",
    "\n",
    "The result of the project is a model that is 87.1% accurate (75.4% F-score) at predicting whether an individual makes more than $50,000 based on 13 datapoints. Training the identical model on the most important 5 datapoints results in a model that is 85.9% accurate (72.8% F-score)."
   ]
  },
  {
   "cell_type": "markdown",
   "metadata": {},
   "source": [
    "## Explore and Preprocess the Data"
   ]
  },
  {
   "cell_type": "markdown",
   "metadata": {},
   "source": [
    "The specific tasks break down as follows:\n",
    "\n",
    "Explore the Data\n",
    "\n",
    "    a. Plot Histograms for Continuous (Numerical) Feature Distributions\n",
    "    b. Plot Bar Charts for Discrete (Categories) Feature Distributions\n",
    "    \n",
    "Preprocess the Data\n",
    "\n",
    "    a. Split into Features and Labels\n",
    "    b. Transform Skewed Continuous Features\n",
    "    c. Normalize Continuous Features\n",
    "    d. One-Hot Encode Categorical Features\n",
    "    e. Suffle and Split the Data\n",
    "    \n",
    "Write the Processed Data to File"
   ]
  },
  {
   "cell_type": "code",
   "execution_count": 1,
   "metadata": {},
   "outputs": [],
   "source": [
    "import numpy as np\n",
    "import pandas as pd\n",
    "from time import time\n",
    "\n",
    "%matplotlib inline\n",
    "import matplotlib.pyplot as plt\n",
    "import seaborn as sns\n",
    "\n",
    "c = pd.read_csv('census.csv')"
   ]
  },
  {
   "cell_type": "markdown",
   "metadata": {},
   "source": [
    "The outcome (label) is contained in the final column, income."
   ]
  },
  {
   "cell_type": "code",
   "execution_count": 2,
   "metadata": {},
   "outputs": [
    {
     "name": "stdout",
     "output_type": "stream",
     "text": [
      "                 Total records: 45222\n",
      " Individuals with income >$50K: 11208\n",
      "Individuals with income <=$50K: 34014\n",
      "        %age with income >$50K: 24.8%\n"
     ]
    }
   ],
   "source": [
    "n_records = c.shape[0]\n",
    "n_greater_50k = c[c['income']=='>50K'].shape[0]\n",
    "n_at_most_50k = c[c['income']=='<=50K'].shape[0]\n",
    "greater_50k_percent = n_greater_50k/n_records\n",
    "\n",
    "print('                 Total records: {}'.format(n_records))\n",
    "print(' Individuals with income >$50K: {}'.format(n_greater_50k))\n",
    "print('Individuals with income <=$50K: {}'.format(n_at_most_50k))\n",
    "print('        %age with income >$50K: {:.1%}'.format(greater_50k_percent))"
   ]
  },
  {
   "cell_type": "markdown",
   "metadata": {},
   "source": [
    "Among the features, there are:\n",
    "\n",
    "- 5 continuous, numerical features and\n",
    "- 8 discrete, categorical features"
   ]
  },
  {
   "cell_type": "code",
   "execution_count": 3,
   "metadata": {},
   "outputs": [
    {
     "name": "stdout",
     "output_type": "stream",
     "text": [
      "<class 'pandas.core.frame.DataFrame'>\n",
      "RangeIndex: 45222 entries, 0 to 45221\n",
      "Data columns (total 14 columns):\n",
      " #   Column           Non-Null Count  Dtype  \n",
      "---  ------           --------------  -----  \n",
      " 0   age              45222 non-null  int64  \n",
      " 1   workclass        45222 non-null  object \n",
      " 2   education_level  45222 non-null  object \n",
      " 3   education-num    45222 non-null  float64\n",
      " 4   marital-status   45222 non-null  object \n",
      " 5   occupation       45222 non-null  object \n",
      " 6   relationship     45222 non-null  object \n",
      " 7   race             45222 non-null  object \n",
      " 8   sex              45222 non-null  object \n",
      " 9   capital-gain     45222 non-null  float64\n",
      " 10  capital-loss     45222 non-null  float64\n",
      " 11  hours-per-week   45222 non-null  float64\n",
      " 12  native-country   45222 non-null  object \n",
      " 13  income           45222 non-null  object \n",
      "dtypes: float64(4), int64(1), object(9)\n",
      "memory usage: 4.8+ MB\n"
     ]
    }
   ],
   "source": [
    "c.info()"
   ]
  },
  {
   "cell_type": "markdown",
   "metadata": {},
   "source": [
    "## Plot Histograms for Continuous Feature Distributions"
   ]
  },
  {
   "cell_type": "code",
   "execution_count": 4,
   "metadata": {},
   "outputs": [],
   "source": [
    "def plot_continuous_distributions(field, bins=None, xlim_list=None, xtick_list=None):\n",
    "    fig, (b, h) = plt.subplots(ncols=1, nrows=2, \n",
    "                               sharex=True, \n",
    "                               gridspec_kw={'height_ratios':[1,3]},\n",
    "                               figsize=(12,3))\n",
    "    b.boxplot(c[field],\n",
    "              widths=0.6,\n",
    "              vert=False)\n",
    "    b.set_title(field,\n",
    "                fontsize=14)\n",
    "    b.set_yticks([])\n",
    "    b.set_xticks(xtick_list)\n",
    "    \n",
    "    h.hist(c[field],\n",
    "           bins=bins,\n",
    "           align='left')\n",
    "    h.set_xlim(xlim_list)\n",
    "    h.set_xticks(xtick_list)\n",
    "    \n",
    "    for ax in [b, h]:\n",
    "        for spine in ax.spines.values():\n",
    "            spine.set_visible(False)\n",
    "        ax.tick_params(\n",
    "            axis='x',\n",
    "            bottom=False)\n",
    "        ax.tick_params(\n",
    "            axis='y',\n",
    "            left=False,\n",
    "            right=False)"
   ]
  },
  {
   "cell_type": "code",
   "execution_count": 5,
   "metadata": {},
   "outputs": [
    {
     "data": {
      "image/png": "[encoded data removed]",
      "text/plain": [
       "<Figure size 864x216 with 2 Axes>"
      ]
     },
     "metadata": {
      "needs_background": "light"
     },
     "output_type": "display_data"
    },
    {
     "data": {
      "image/png": "[encoded data removed]",
      "text/plain": [
       "<Figure size 864x216 with 2 Axes>"
      ]
     },
     "metadata": {
      "needs_background": "light"
     },
     "output_type": "display_data"
    },
    {
     "data": {
      "image/png": "[encoded data removed]",
      "text/plain": [
       "<Figure size 864x216 with 2 Axes>"
      ]
     },
     "metadata": {
      "needs_background": "light"
     },
     "output_type": "display_data"
    },
    {
     "data": {
      "image/png": "[encoded data removed]",
      "text/plain": [
       "<Figure size 864x216 with 2 Axes>"
      ]
     },
     "metadata": {
      "needs_background": "light"
     },
     "output_type": "display_data"
    },
    {
     "data": {
      "image/png": "[encoded data removed]",
      "text/plain": [
       "<Figure size 864x216 with 2 Axes>"
      ]
     },
     "metadata": {
      "needs_background": "light"
     },
     "output_type": "display_data"
    }
   ],
   "source": [
    "params = [('age',np.arange(15,95,5),[10,95],np.arange(10,100,10)),\n",
    "          ('education-num',np.arange(0,17,1),[0,17],np.arange(2,18,2)),\n",
    "          ('capital-gain',np.arange(0,100000,5000),[-5000,105000],\n",
    "           np.arange(0,100000,10000)),\n",
    "          ('capital-loss',np.arange(0,4500,250),[-250,5000],np.arange(0,4500,500)),\n",
    "          ('hours-per-week',np.arange(0,100,5),[-5,105],np.arange(0,110,10))]\n",
    "for field, bins, xlim_list, x_tick_list in params:\n",
    "    plot_continuous_distributions(field, bins, xlim_list, x_tick_list)"
   ]
  },
  {
   "cell_type": "markdown",
   "metadata": {},
   "source": [
    "## Plot Bar Charts for Discrete Feature Distributions"
   ]
  },
  {
   "cell_type": "code",
   "execution_count": 6,
   "metadata": {},
   "outputs": [],
   "source": [
    "def plot_discrete_distributions(field):\n",
    "    summary = (pd.DataFrame(c[field].value_counts())\n",
    "               .reset_index())\n",
    "    \n",
    "    if summary.shape[0] > 14:\n",
    "        other_total = summary[14:][field].sum()\n",
    "        summary = summary[:14]\n",
    "        summary = summary.append({'index':'Other',\n",
    "                                  field:other_total},\n",
    "                                 ignore_index=True)\n",
    "    \n",
    "    summary['percentage'] = round(summary[field]/summary[field].sum()*100.,\n",
    "                                  0).astype(int)\n",
    "    labels = summary['index']\n",
    "    position = summary.index\n",
    "    counts = summary[field]\n",
    "    \n",
    "    plt.figure(figsize=(12,3))\n",
    "\n",
    "    plt.bar(position, counts, align='center')\n",
    "    \n",
    "    if summary.shape[0] > 6:\n",
    "        rotation = 20\n",
    "    else:\n",
    "        rotation = 0\n",
    "    \n",
    "    plt.xticks(position, labels, rotation=rotation)\n",
    "\n",
    "    rects = plt.gca().patches\n",
    "    for n, r in enumerate(rects):\n",
    "        height = r.get_height()\n",
    "        plt.gca().text(r.get_x() + r.get_width() / 2,\n",
    "                       height + plt.gca().get_ylim()[1]*0.08,\n",
    "                       str(summary['percentage'][n]) + '%\\n' + str(height),\n",
    "                       ha='center',\n",
    "                       va='center')\n",
    "\n",
    "    for spine in plt.gca().spines.values():\n",
    "        spine.set_visible(False)\n",
    "    plt.gca().tick_params(\n",
    "        axis='x',\n",
    "        bottom=False)\n",
    "    plt.gca().tick_params(\n",
    "        axis='y',\n",
    "        left=False,\n",
    "        labelleft=False,\n",
    "        right=False)\n",
    "\n",
    "    plt.title(field,\n",
    "              fontsize=14);"
   ]
  },
  {
   "cell_type": "code",
   "execution_count": 7,
   "metadata": {},
   "outputs": [
    {
     "data": {
      "image/png": "[encoded data removed]",
      "text/plain": [
       "<Figure size 864x216 with 1 Axes>"
      ]
     },
     "metadata": {
      "needs_background": "light"
     },
     "output_type": "display_data"
    },
    {
     "data": {
      "image/png": "[encoded data removed]",
      "text/plain": [
       "<Figure size 864x216 with 1 Axes>"
      ]
     },
     "metadata": {
      "needs_background": "light"
     },
     "output_type": "display_data"
    },
    {
     "data": {
      "image/png": "[encoded data removed]",
      "text/plain": [
       "<Figure size 864x216 with 1 Axes>"
      ]
     },
     "metadata": {
      "needs_background": "light"
     },
     "output_type": "display_data"
    },
    {
     "data": {
      "image/png": "[encoded data removed]",
      "text/plain": [
       "<Figure size 864x216 with 1 Axes>"
      ]
     },
     "metadata": {
      "needs_background": "light"
     },
     "output_type": "display_data"
    },
    {
     "data": {
      "image/png": "[encoded data removed]",
      "text/plain": [
       "<Figure size 864x216 with 1 Axes>"
      ]
     },
     "metadata": {
      "needs_background": "light"
     },
     "output_type": "display_data"
    },
    {
     "data": {
      "image/png": "[encoded data removed]",
      "text/plain": [
       "<Figure size 864x216 with 1 Axes>"
      ]
     },
     "metadata": {
      "needs_background": "light"
     },
     "output_type": "display_data"
    },
    {
     "data": {
      "image/png": "[encoded data removed]",
      "text/plain": [
       "<Figure size 864x216 with 1 Axes>"
      ]
     },
     "metadata": {
      "needs_background": "light"
     },
     "output_type": "display_data"
    },
    {
     "data": {
      "image/png": "[encoded data removed]",
      "text/plain": [
       "<Figure size 864x216 with 1 Axes>"
      ]
     },
     "metadata": {
      "needs_background": "light"
     },
     "output_type": "display_data"
    },
    {
     "data": {
      "image/png": "[encoded data removed]",
      "text/plain": [
       "<Figure size 864x216 with 1 Axes>"
      ]
     },
     "metadata": {
      "needs_background": "light"
     },
     "output_type": "display_data"
    }
   ],
   "source": [
    "for field in ['workclass', 'education_level', 'marital-status', 'occupation',\n",
    "              'relationship', 'race', 'sex', 'native-country', 'income']:\n",
    "    plot_discrete_distributions(field)"
   ]
  },
  {
   "cell_type": "markdown",
   "metadata": {},
   "source": [
    "# Preprocessing the Data\n",
    "\n",
    "The data must be preprocessed before it can be used as input for machine learning algorithms. This “preprocessing” consists of handling invalid or missing entries, a broad term for this is cleaning, as well as other formatting and restructuring."
   ]
  },
  {
   "cell_type": "markdown",
   "metadata": {},
   "source": [
    "## Split into Features and Labels"
   ]
  },
  {
   "cell_type": "code",
   "execution_count": 8,
   "metadata": {},
   "outputs": [],
   "source": [
    "labels_raw = c['income']\n",
    "features_raw = c.drop(columns=['income'])"
   ]
  },
  {
   "cell_type": "markdown",
   "metadata": {},
   "source": [
    "## Transforming Skewed Continuous Features"
   ]
  },
  {
   "cell_type": "markdown",
   "metadata": {},
   "source": [
    "capital-gain and capital-loss are both highly-skewed features. The common practice is to apply a logarithmic transformation so that the very large and very small values do not negatively affect the performance of a learning algorithm.\n",
    "\n",
    "Note that since the logarithm of 0 is undefined, I translate the values by a small amount above 0 in order to apply the logarithm successfully.\n",
    "\n",
    "Note that the only features that are log transformed, below, are the features in the list of skewed fields."
   ]
  },
  {
   "cell_type": "code",
   "execution_count": 9,
   "metadata": {},
   "outputs": [],
   "source": [
    "skewed = ['capital-gain', 'capital-loss']\n",
    "features_log_transformed = pd.DataFrame(data = features_raw)\n",
    "features_log_transformed[skewed] = features_raw[skewed].apply(lambda x: np.log(x + 1))"
   ]
  },
  {
   "cell_type": "markdown",
   "metadata": {},
   "source": [
    "Visualize the change."
   ]
  },
  {
   "cell_type": "code",
   "execution_count": 10,
   "metadata": {},
   "outputs": [
    {
     "data": {
      "image/png": "[encoded data removed]",
      "text/plain": [
       "<Figure size 864x216 with 2 Axes>"
      ]
     },
     "metadata": {
      "needs_background": "light"
     },
     "output_type": "display_data"
    },
    {
     "data": {
      "image/png": "[encoded data removed]",
      "text/plain": [
       "<Figure size 864x216 with 2 Axes>"
      ]
     },
     "metadata": {
      "needs_background": "light"
     },
     "output_type": "display_data"
    },
    {
     "data": {
      "image/png": "[encoded data removed]",
      "text/plain": [
       "<Figure size 864x216 with 2 Axes>"
      ]
     },
     "metadata": {
      "needs_background": "light"
     },
     "output_type": "display_data"
    },
    {
     "data": {
      "image/png": "[encoded data removed]",
      "text/plain": [
       "<Figure size 864x216 with 2 Axes>"
      ]
     },
     "metadata": {
      "needs_background": "light"
     },
     "output_type": "display_data"
    }
   ],
   "source": [
    "c['log-capital-gain'] = features_log_transformed['capital-gain']\n",
    "c['log-capital-loss'] = features_log_transformed['capital-loss']\n",
    "params = [('capital-gain',np.arange(0,100000,5000),[-5000,105000],\n",
    "           np.arange(0,100000,10000)),\n",
    "          ('log-capital-gain',np.arange(0,12,1),[0,12],np.arange(0,14,2)),\n",
    "          ('capital-loss',np.arange(0,4500,250),[-250,5000],np.arange(0,4500,500)),\n",
    "          ('log-capital-loss',np.arange(0,8,1),[0,9],np.arange(0,10,2))]\n",
    "for field, bins, xlim_list, x_tick_list in params:\n",
    "    plot_continuous_distributions(field, bins, xlim_list, x_tick_list)\n",
    "c = c.drop(columns=['log-capital-gain','log-capital-loss'])"
   ]
  },
  {
   "cell_type": "markdown",
   "metadata": {},
   "source": [
    "## Normalizing Numerical Features\n",
    "\n",
    "In addition to transforming highly skewed features, it is also good practice to scale numerical features. This does not change the shape of the distribution like a log transform. It does, however, ensure that each feature is treated equally when applying supervised learning.\n",
    "\n",
    "Note that the capital-gain and capital-loss fields were already log-transformed and are now being min-max-scaled."
   ]
  },
  {
   "cell_type": "code",
   "execution_count": 11,
   "metadata": {},
   "outputs": [],
   "source": [
    "from sklearn.preprocessing import MinMaxScaler\n",
    "\n",
    "scaler = MinMaxScaler() # default=(0, 1)\n",
    "numerical = ['age', 'education-num', 'capital-gain', 'capital-loss', 'hours-per-week']\n",
    "\n",
    "features_log_minmax_transform = \\\n",
    "    pd.DataFrame(data = features_log_transformed)\n",
    "\n",
    "features_log_minmax_transform[numerical] = \\\n",
    "    scaler.fit_transform(features_log_transformed[numerical])"
   ]
  },
  {
   "cell_type": "markdown",
   "metadata": {},
   "source": [
    "Visualize the change."
   ]
  },
  {
   "cell_type": "code",
   "execution_count": 12,
   "metadata": {},
   "outputs": [
    {
     "data": {
      "image/png": "[encoded data removed]",
      "text/plain": [
       "<Figure size 864x216 with 2 Axes>"
      ]
     },
     "metadata": {
      "needs_background": "light"
     },
     "output_type": "display_data"
    },
    {
     "data": {
      "image/png": "[encoded data removed]",
      "text/plain": [
       "<Figure size 864x216 with 2 Axes>"
      ]
     },
     "metadata": {
      "needs_background": "light"
     },
     "output_type": "display_data"
    },
    {
     "data": {
      "image/png": "[encoded data removed]",
      "text/plain": [
       "<Figure size 864x216 with 2 Axes>"
      ]
     },
     "metadata": {
      "needs_background": "light"
     },
     "output_type": "display_data"
    },
    {
     "data": {
      "image/png": "[encoded data removed]",
      "text/plain": [
       "<Figure size 864x216 with 2 Axes>"
      ]
     },
     "metadata": {
      "needs_background": "light"
     },
     "output_type": "display_data"
    },
    {
     "data": {
      "image/png": "[encoded data removed]",
      "text/plain": [
       "<Figure size 864x216 with 2 Axes>"
      ]
     },
     "metadata": {
      "needs_background": "light"
     },
     "output_type": "display_data"
    },
    {
     "data": {
      "image/png": "[encoded data removed]",
      "text/plain": [
       "<Figure size 864x216 with 2 Axes>"
      ]
     },
     "metadata": {
      "needs_background": "light"
     },
     "output_type": "display_data"
    },
    {
     "data": {
      "image/png": "[encoded data removed]",
      "text/plain": [
       "<Figure size 864x216 with 2 Axes>"
      ]
     },
     "metadata": {
      "needs_background": "light"
     },
     "output_type": "display_data"
    },
    {
     "data": {
      "image/png": "[encoded data removed]",
      "text/plain": [
       "<Figure size 864x216 with 2 Axes>"
      ]
     },
     "metadata": {
      "needs_background": "light"
     },
     "output_type": "display_data"
    },
    {
     "data": {
      "image/png": "[encoded data removed]",
      "text/plain": [
       "<Figure size 864x216 with 2 Axes>"
      ]
     },
     "metadata": {
      "needs_background": "light"
     },
     "output_type": "display_data"
    },
    {
     "data": {
      "image/png": "[encoded data removed]",
      "text/plain": [
       "<Figure size 864x216 with 2 Axes>"
      ]
     },
     "metadata": {
      "needs_background": "light"
     },
     "output_type": "display_data"
    }
   ],
   "source": [
    "for col in numerical:\n",
    "    c['norm-' + col] = features_log_minmax_transform[col]\n",
    "params = [('age',np.arange(15,95,5),[10,95],np.arange(10,100,10)),\n",
    "          ('norm-age',np.arange(0,1.05,0.05),[-0.05,1.05],np.arange(0,1.1,0.1)),\n",
    "          ('education-num',np.arange(0,17,1),[0,17],np.arange(2,18,2)),\n",
    "          ('norm-education-num',np.arange(0,1.05,0.05),[-0.05,1.05],np.arange(0,1.1,0.1)),\n",
    "          ('capital-gain',np.arange(0,100000,5000),[-5000,105000],\n",
    "           np.arange(0,100000,10000)),\n",
    "          ('norm-capital-gain',np.arange(0,1.05,0.05),[-0.05,1.05],np.arange(0,1.1,0.1)),\n",
    "          ('capital-loss',np.arange(0,4500,250),[-250,5000],np.arange(0,4500,500)),\n",
    "          ('norm-capital-loss',np.arange(0,1.05,0.05),[-0.05,1.05],np.arange(0,1.1,0.1)),\n",
    "          ('hours-per-week',np.arange(0,100,5),[-5,105],np.arange(0,110,10)),\n",
    "          ('norm-hours-per-week',np.arange(0,1.05,0.05),[-0.05,1.05],np.arange(0,1.1,0.1))]\n",
    "for field, bins, xlim_list, x_tick_list in params:\n",
    "    plot_continuous_distributions(field, bins, xlim_list, x_tick_list)\n",
    "c = c.drop(columns=c.columns[c.columns.str.contains('norm')])"
   ]
  },
  {
   "cell_type": "markdown",
   "metadata": {},
   "source": [
    "## One-Hot Encode Categoricals\n",
    "\n",
    "Learning algorithms generally expect numeric input. This dataset has 8 features that are categorical, which will need to be converted. This is generally accomplished with one-hot encoding the data. The pandas.get_dummies() method will be used for one-hot encoding.\n",
    "\n",
    "The target label, income, must also be converted. Since there are only two possible categories, we can avoid using one-hot encoding and simply encode those categories as 0 or 1."
   ]
  },
  {
   "cell_type": "code",
   "execution_count": 13,
   "metadata": {},
   "outputs": [
    {
     "name": "stdout",
     "output_type": "stream",
     "text": [
      "Before one-hot encode: 13 features\n",
      " After one-hot encode: 103 features\n"
     ]
    }
   ],
   "source": [
    "features_final = pd.get_dummies(features_log_minmax_transform)\n",
    "\n",
    "before_encoding_cols = len(features_log_minmax_transform.columns)\n",
    "after_encoding_cols = len(features_final.columns)\n",
    "\n",
    "print(\"Before one-hot encode: {} features\".format(before_encoding_cols))\n",
    "print(\" After one-hot encode: {} features\".format(after_encoding_cols))"
   ]
  },
  {
   "cell_type": "code",
   "execution_count": 14,
   "metadata": {},
   "outputs": [],
   "source": [
    "labels_final = (labels_raw\n",
    "                .replace('<=50K',0)\n",
    "                .replace('>50K',1))"
   ]
  },
  {
   "cell_type": "markdown",
   "metadata": {},
   "source": [
    "## Shuffle and Split the Data\n",
    "\n",
    "Use an 80⁄20 Training/Testing split."
   ]
  },
  {
   "cell_type": "code",
   "execution_count": 15,
   "metadata": {},
   "outputs": [
    {
     "name": "stdout",
     "output_type": "stream",
     "text": [
      "Training set: 36177 samples\n",
      " Testing set: 9045 samples\n"
     ]
    }
   ],
   "source": [
    "from sklearn.model_selection import train_test_split\n",
    "\n",
    "X_train, X_test, y_train, y_test = train_test_split(features_final, \n",
    "                                                    labels_final, \n",
    "                                                    test_size = 0.2, \n",
    "                                                    random_state = 0)\n",
    "\n",
    "print(\"Training set: {} samples\".format(X_train.shape[0]))\n",
    "print(\" Testing set: {} samples\".format(X_test.shape[0]))"
   ]
  },
  {
   "cell_type": "markdown",
   "metadata": {},
   "source": [
    "## Write to File"
   ]
  },
  {
   "cell_type": "code",
   "execution_count": 16,
   "metadata": {},
   "outputs": [],
   "source": [
    "for data_subset, name in [(X_train, 'X_train'),\n",
    "                          (X_test,  'X_test'),\n",
    "                          (y_train, 'y_train'),\n",
    "                          (y_test,  'y_test')]:\n",
    "    data_subset.to_csv(name + '.csv')"
   ]
  },
  {
   "cell_type": "markdown",
   "metadata": {},
   "source": [
    "# Benchmark Several Default Machine Learning Models\n",
    "\n",
    "The specific tasks break down as follows:\n",
    "\n",
    "- Consider the performance of a Naive Predictor.\n",
    "- Qualitatively analyze the suitability of each model to the dataset being explored.\n",
    "- Create a Training and Predicting pipeline to facilitate quick training of several models using various sizes of training data.\n",
    "- Select Top Model and discuss results."
   ]
  },
  {
   "cell_type": "code",
   "execution_count": 17,
   "metadata": {},
   "outputs": [],
   "source": [
    "%matplotlib inline\n",
    "\n",
    "import pandas as pd\n",
    "import matplotlib.pyplot as pl\n",
    "import numpy as np\n",
    "\n",
    "import matplotlib.patches as mpatches"
   ]
  },
  {
   "cell_type": "code",
   "execution_count": 18,
   "metadata": {},
   "outputs": [],
   "source": [
    "y_train = pd.read_csv('y_train.csv',\n",
    "                      index_col=0)\n",
    "y_test = pd.read_csv('y_test.csv',\n",
    "                     index_col=0)\n",
    "y = y_train.append(y_test)"
   ]
  },
  {
   "cell_type": "code",
   "execution_count": 19,
   "metadata": {},
   "outputs": [],
   "source": [
    "X_train = pd.read_csv('X_train.csv',\n",
    "                      index_col=0)\n",
    "X_test = pd.read_csv('X_test.csv',\n",
    "                     index_col=0)\n",
    "X = X_train.append(X_test)"
   ]
  },
  {
   "cell_type": "markdown",
   "metadata": {},
   "source": [
    "# Consider the Performance of a Naive Predictor\n",
    "\n",
    "Remember the following definitions from a confusion matrix:\n",
    "\n",
    "- True Positive: Both predicted and actually positive.\n",
    "- True Negative: Both predicted and actually negative.\n",
    "- False Negatives: Predicted negative, but actually positive.\n",
    "- False Positive: Predicted positive, but actually negative."
   ]
  },
  {
   "cell_type": "markdown",
   "metadata": {},
   "source": [
    "- Precision focuses on the predicted positive values in the dataset.\n",
    "- Recall focuses on the actually positive values in the dataset."
   ]
  },
  {
   "cell_type": "code",
   "execution_count": 20,
   "metadata": {},
   "outputs": [
    {
     "name": "stdout",
     "output_type": "stream",
     "text": [
      "      Total Datapoints: 45222\n",
      "Total Actual Positives: 11208\n",
      " Actual Positive Ratio:    24.8%\n"
     ]
    }
   ],
   "source": [
    "total = y['income'].count()\n",
    "total_actual_positives = y['income'].sum()\n",
    "\n",
    "print('      Total Datapoints: {}'.format(total))\n",
    "print('Total Actual Positives: {}'.format(total_actual_positives))\n",
    "print(' Actual Positive Ratio:    {:1.1%}'.format(total_actual_positives/total))"
   ]
  },
  {
   "cell_type": "markdown",
   "metadata": {},
   "source": [
    "A naive predictor, in this case, would the entire dataset is positive. Note that this would clearly result in an accuracy less than 50%, since the actual positives are less than half of the total datapoints. So in general the opposite prediction would be the more appropriate naive prediction. But, in this specific problem, predicting that everyone earns less than $50K is not useful since in the problem setup this would mean zero people are possible donors.\n",
    "\n",
    "Note also that in this case it is more important for a model to precisely predict those making more than $50K than it is for the model to recall those individuals. So, I use a  value of 0.5 that places more emphasis on precision.\n",
    "\n",
    "The following definitions for TP, TN, FP, and FN are specific to the naive predictor."
   ]
  },
  {
   "cell_type": "code",
   "execution_count": 21,
   "metadata": {},
   "outputs": [
    {
     "name": "stdout",
     "output_type": "stream",
     "text": [
      "   Accuracy:  24.8%\n",
      "  Precision:  24.8%\n",
      "     Recall: 100.0%\n",
      "F_0.5 Score:  29.2%\n"
     ]
    }
   ],
   "source": [
    "TP = total_actual_positives\n",
    "TN = 0\n",
    "FP = total - total_actual_positives\n",
    "FN = 0\n",
    "\n",
    "beta = 0.5\n",
    "accuracy = (TP+TN) / (TP+TN+FP+FN)\n",
    "precision = TP / (TP+FP)\n",
    "recall = TP / (TP+FN)\n",
    "fscore = (1 + beta**2)*(precision*recall)/(beta**2*precision + recall)\n",
    "\n",
    "print('   Accuracy:  {:1.1%}'.format(accuracy))\n",
    "print('  Precision:  {:1.1%}'.format(precision))\n",
    "print('     Recall: {:1.1%}'.format(recall))\n",
    "print('F_0.5 Score:  {:3.1%}'.format(fscore))"
   ]
  },
  {
   "cell_type": "markdown",
   "metadata": {},
   "source": [
    "# Qualitatively Analyze the Suitability of Possible Models\n",
    "\n",
    "The following supervised learning models are some of those available in scikit-learn:\n",
    "\n",
    "**Gaussian Naive Bayes**\n",
    "\n",
    "- ***GaussianNB*** - from sklearn.naive_bayes import GaussianNB\n",
    "\n",
    "**Decision Trees**\n",
    "\n",
    "- ***DecisionTreeClassifier*** - from sklearn.tree import DecisionTreeClassifier\n",
    "\n",
    "**Ensemble Methods**\n",
    "\n",
    "- ***Bagging*** - from sklearn.ensemble import BaggingClassifier\n",
    "- ***AdaBoost*** - from sklearn.ensemble import AdaBoostClassifier\n",
    "- ***Random Forest*** - from sklearn.ensemble import RandomForestClassifier\n",
    "- ***Gradient Boosting*** - from sklearn.ensemble import GradientBoostingClassifier\n",
    "\n",
    "**K-Nearest Neighbors**\n",
    "\n",
    "- ***KNeighbors** - from sklearn.neighbors import KNeighborsClassifier\n",
    "\n",
    "**Stochastic Gradient Descent Classifier**\n",
    "\n",
    "- ***SGDC*** - from sklearn.linear_model import SGDClassifier\n",
    "\n",
    "**Support Vector Machines**\n",
    "\n",
    "- ***SVM*** - from sklearn.svm import SVC\n",
    "\n",
    "**Logistic Regression**\n",
    "\n",
    "- ***Logistic Regression*** - from sklearn.linear_model import LogisticRegression"
   ]
  },
  {
   "cell_type": "markdown",
   "metadata": {},
   "source": [
    "\n",
    "# Qualitative Analysis\n",
    "\n",
    "### Gaussian Naive Bayes 1\n",
    "Real-World Applications: Real-time predictions, text classification, spam filtering, sentiment analysis\n",
    "Strengths: Fast, so useful with very large data sets. Requires less training data than some other models, like logistic regression.\n",
    "Weaknesses: Assumes independent features, which may not be accurate\n",
    "Good candidate?: Gaussian Naive Bayes are sutiable for binary classification tasks. But, the task does not involve text classification, which seems to be Naive Bayes’ primary application. May be suitable.\n",
    "\n",
    "\n",
    "### Decision Trees 2\n",
    "Real-World Applications: Broad application; wherever comprehensible rules are needed for a classification task.\n",
    "Strengths: Rules are easily understood. Once trained, predictions are computationally efficient.\n",
    "Weaknesses: Less appropriate for estimation tasks where the output is continuous. Computationally inefficient to train. Tendency to overfit the data.\n",
    "Good candidate?: Decision trees are suitable for binary classification tasks. Likely to be suitable.\n",
    "\n",
    "\n",
    "### Ensemble Methods 3, 4, 5\n",
    "Real-World Applications: Remote sensing, person recognition, malware detection, fraud detection.\n",
    "Strengths: Almost never overfit.\n",
    "Weaknesses: Not interpretable. Computationally expensive.\n",
    "Good candidate?: Yes, similar to the decision tree, which are often the weak learner of choice used with these algorithms. Likely to be suitable.\n",
    "\n",
    "\n",
    "### K-Nearest Neighbors 6\n",
    "Real-World Applications: economic forecasting, data compression, genetics.\n",
    "Strengths: Easy to understand and implement, computationally efficient training.\n",
    "Weaknesses: Computationally expensive testing, not well-suited to high-dimensional data because there may not be much distance between nearest and farthest neighbor.\n",
    "Good candidate?: The data may be too high-dimensional, but testing is needed to determine if this is true. May be suitable.\n",
    "\n",
    "\n",
    "### Stochastic Gradient Descent Classifier 7\n",
    "Real-World Applications: SGD is a popular algorithm for training a wide range of models in machine learning.\n",
    "Strengths: Limited available information on using SGD indpendently.\n",
    "Weaknesses: Limited available information on using SGD indpendently.\n",
    "Good candidate?: Limited available information on using SGD independently. In most cases, it seems to be used as an algorithm to train other types of models. Unknown, testing necessary.\n",
    "\n",
    "\n",
    "### Support Vector Machines 8\n",
    "Real-World Applications: Image classification, handwriting recognition, text and hypertext categorization.\n",
    "Strengths: Effective with high-dimensional data. Tolerant of outliers.\n",
    "Weaknesses: Computationally-inefficient on large datasets. Difficult to determine the optimal kernel to use. Not interpretable.\n",
    "Good candidate?: Likely to be suitable.\n",
    "\n",
    "\n",
    "### Logistic Regression 9, 10\n",
    "Real-World Applications: Image segmentation and categorization, handwriting recognition, any application requiring classification.\n",
    "Strengths: Outputs have a nice probabilistic interpretation. Easily updated model.\n",
    "Weaknesses: Underperforms when there are multiple or non-linear decision boundaries.\n",
    "Good candidate?: Depends on the linearity of the data. Unknown, testing necessary."
   ]
  },
  {
   "cell_type": "markdown",
   "metadata": {},
   "source": [
    "## Create a Training and Prediction Pipeline"
   ]
  },
  {
   "cell_type": "code",
   "execution_count": 22,
   "metadata": {},
   "outputs": [],
   "source": [
    "from time import time\n",
    "from sklearn.metrics import (fbeta_score,\n",
    "                             accuracy_score)"
   ]
  },
  {
   "cell_type": "markdown",
   "metadata": {},
   "source": [
    "The following utility function calculates training time, **prediction time, accuracy scores, and f-scores**. The predictions, accuracies, and f-scores are calculated for the testing data as well as a subset of the training data.\n",
    "\n",
    "In the following function:\n",
    "\n",
    "- .values will give the values in an array. (shape: (n,1)\n",
    "- .ravel will convert that array shape to (n, )"
   ]
  },
  {
   "cell_type": "code",
   "execution_count": 23,
   "metadata": {},
   "outputs": [],
   "source": [
    "def train_predict(learner, sample_size, X_train, y_train, X_test, y_test): \n",
    "    '''\n",
    "    inputs:\n",
    "       - learner: the learning algorithm to be trained and predicted on\n",
    "       - sample_size: the size of samples (number) to be drawn from training set\n",
    "       - X_train: features training set\n",
    "       - y_train: income training set\n",
    "       - X_test: features testing set\n",
    "       - y_test: income testing set\n",
    "    '''\n",
    "    results = {}\n",
    "    \n",
    "    start = time()\n",
    "    learner = learner.fit(X_train[:sample_size],\n",
    "                          y_train[:sample_size].values.ravel())\n",
    "    end = time() \n",
    "    results['train_time'] = end - start\n",
    "        \n",
    "    start = time() # Get start time\n",
    "    test_preds = learner.predict(X_test)\n",
    "    train_preds = learner.predict(X_train[:300]) # Get predictions on the first 300 training samples\n",
    "    end = time() # Get end time\n",
    "    results['pred_time'] = end - start\n",
    "\n",
    "    results['acc_train'] = accuracy_score(y_train[:300].values.ravel(), train_preds)\n",
    "    results['acc_test'] = accuracy_score(y_test, test_preds)\n",
    "    results['f_train'] = fbeta_score(y_train[:300].values.ravel(), train_preds, 0.5)\n",
    "    results['f_test'] = fbeta_score(y_test, test_preds, 0.5)\n",
    "\n",
    "    return results"
   ]
  },
  {
   "cell_type": "markdown",
   "metadata": {},
   "source": [
    "Import then Initialize the **default models** that will be considered. Determine the counts of samples for 1%, 10%, 100% of the training data."
   ]
  },
  {
   "cell_type": "code",
   "execution_count": 24,
   "metadata": {},
   "outputs": [],
   "source": [
    "from sklearn.naive_bayes import GaussianNB\n",
    "\n",
    "from sklearn.tree import DecisionTreeClassifier\n",
    "\n",
    "from sklearn.ensemble import BaggingClassifier\n",
    "from sklearn.ensemble import AdaBoostClassifier\n",
    "from sklearn.ensemble import RandomForestClassifier\n",
    "from sklearn.ensemble import GradientBoostingClassifier\n",
    "\n",
    "from sklearn.neighbors import KNeighborsClassifier\n",
    "\n",
    "from sklearn.linear_model import SGDClassifier\n",
    "\n",
    "from sklearn.svm import SVC\n",
    "\n",
    "from sklearn.linear_model import LogisticRegression"
   ]
  },
  {
   "cell_type": "code",
   "execution_count": 25,
   "metadata": {},
   "outputs": [],
   "source": [
    "random_state = 42\n",
    "\n",
    "clf_1 = GaussianNB()\n",
    "clf_2 = DecisionTreeClassifier(random_state=random_state)\n",
    "clf_3 = BaggingClassifier(random_state=random_state)\n",
    "clf_4 = AdaBoostClassifier(random_state=random_state)\n",
    "clf_5 = RandomForestClassifier(random_state=random_state)\n",
    "clf_6 = GradientBoostingClassifier(random_state=random_state)\n",
    "clf_7 = KNeighborsClassifier()\n",
    "clf_8 = SGDClassifier(random_state=random_state)\n",
    "clf_9 = SVC(random_state=random_state)\n",
    "clf_10 = LogisticRegression(random_state=random_state)"
   ]
  },
  {
   "cell_type": "markdown",
   "metadata": {},
   "source": [
    "Determine the count of samples for **1%, 10%, and 100%** of the **training data**."
   ]
  },
  {
   "cell_type": "code",
   "execution_count": 26,
   "metadata": {},
   "outputs": [],
   "source": [
    "samples_100 = len(y_train)\n",
    "samples_10 = int(round(0.1 * len(y_train)))\n",
    "samples_1 = int(round(0.01 * len(y_train)))"
   ]
  },
  {
   "cell_type": "markdown",
   "metadata": {},
   "source": [
    "Collect results on the learners."
   ]
  },
  {
   "cell_type": "code",
   "execution_count": 27,
   "metadata": {},
   "outputs": [
    {
     "name": "stderr",
     "output_type": "stream",
     "text": [
      "C:\\Users\\Marc-Aurelien\\anaconda3\\lib\\site-packages\\sklearn\\utils\\validation.py:68: FutureWarning: Pass beta=0.5 as keyword args. From version 0.25 passing these as positional arguments will result in an error\n",
      "  warnings.warn(\"Pass {} as keyword args. From version 0.25 \"\n",
      "C:\\Users\\Marc-Aurelien\\anaconda3\\lib\\site-packages\\sklearn\\utils\\validation.py:68: FutureWarning: Pass beta=0.5 as keyword args. From version 0.25 passing these as positional arguments will result in an error\n",
      "  warnings.warn(\"Pass {} as keyword args. From version 0.25 \"\n",
      "C:\\Users\\Marc-Aurelien\\anaconda3\\lib\\site-packages\\sklearn\\utils\\validation.py:68: FutureWarning: Pass beta=0.5 as keyword args. From version 0.25 passing these as positional arguments will result in an error\n",
      "  warnings.warn(\"Pass {} as keyword args. From version 0.25 \"\n",
      "C:\\Users\\Marc-Aurelien\\anaconda3\\lib\\site-packages\\sklearn\\utils\\validation.py:68: FutureWarning: Pass beta=0.5 as keyword args. From version 0.25 passing these as positional arguments will result in an error\n",
      "  warnings.warn(\"Pass {} as keyword args. From version 0.25 \"\n",
      "C:\\Users\\Marc-Aurelien\\anaconda3\\lib\\site-packages\\sklearn\\utils\\validation.py:68: FutureWarning: Pass beta=0.5 as keyword args. From version 0.25 passing these as positional arguments will result in an error\n",
      "  warnings.warn(\"Pass {} as keyword args. From version 0.25 \"\n",
      "C:\\Users\\Marc-Aurelien\\anaconda3\\lib\\site-packages\\sklearn\\utils\\validation.py:68: FutureWarning: Pass beta=0.5 as keyword args. From version 0.25 passing these as positional arguments will result in an error\n",
      "  warnings.warn(\"Pass {} as keyword args. From version 0.25 \"\n",
      "C:\\Users\\Marc-Aurelien\\anaconda3\\lib\\site-packages\\sklearn\\utils\\validation.py:68: FutureWarning: Pass beta=0.5 as keyword args. From version 0.25 passing these as positional arguments will result in an error\n",
      "  warnings.warn(\"Pass {} as keyword args. From version 0.25 \"\n",
      "C:\\Users\\Marc-Aurelien\\anaconda3\\lib\\site-packages\\sklearn\\utils\\validation.py:68: FutureWarning: Pass beta=0.5 as keyword args. From version 0.25 passing these as positional arguments will result in an error\n",
      "  warnings.warn(\"Pass {} as keyword args. From version 0.25 \"\n",
      "C:\\Users\\Marc-Aurelien\\anaconda3\\lib\\site-packages\\sklearn\\utils\\validation.py:68: FutureWarning: Pass beta=0.5 as keyword args. From version 0.25 passing these as positional arguments will result in an error\n",
      "  warnings.warn(\"Pass {} as keyword args. From version 0.25 \"\n",
      "C:\\Users\\Marc-Aurelien\\anaconda3\\lib\\site-packages\\sklearn\\utils\\validation.py:68: FutureWarning: Pass beta=0.5 as keyword args. From version 0.25 passing these as positional arguments will result in an error\n",
      "  warnings.warn(\"Pass {} as keyword args. From version 0.25 \"\n",
      "C:\\Users\\Marc-Aurelien\\anaconda3\\lib\\site-packages\\sklearn\\utils\\validation.py:68: FutureWarning: Pass beta=0.5 as keyword args. From version 0.25 passing these as positional arguments will result in an error\n",
      "  warnings.warn(\"Pass {} as keyword args. From version 0.25 \"\n",
      "C:\\Users\\Marc-Aurelien\\anaconda3\\lib\\site-packages\\sklearn\\utils\\validation.py:68: FutureWarning: Pass beta=0.5 as keyword args. From version 0.25 passing these as positional arguments will result in an error\n",
      "  warnings.warn(\"Pass {} as keyword args. From version 0.25 \"\n",
      "C:\\Users\\Marc-Aurelien\\anaconda3\\lib\\site-packages\\sklearn\\utils\\validation.py:68: FutureWarning: Pass beta=0.5 as keyword args. From version 0.25 passing these as positional arguments will result in an error\n",
      "  warnings.warn(\"Pass {} as keyword args. From version 0.25 \"\n",
      "C:\\Users\\Marc-Aurelien\\anaconda3\\lib\\site-packages\\sklearn\\utils\\validation.py:68: FutureWarning: Pass beta=0.5 as keyword args. From version 0.25 passing these as positional arguments will result in an error\n",
      "  warnings.warn(\"Pass {} as keyword args. From version 0.25 \"\n",
      "C:\\Users\\Marc-Aurelien\\anaconda3\\lib\\site-packages\\sklearn\\utils\\validation.py:68: FutureWarning: Pass beta=0.5 as keyword args. From version 0.25 passing these as positional arguments will result in an error\n",
      "  warnings.warn(\"Pass {} as keyword args. From version 0.25 \"\n",
      "C:\\Users\\Marc-Aurelien\\anaconda3\\lib\\site-packages\\sklearn\\utils\\validation.py:68: FutureWarning: Pass beta=0.5 as keyword args. From version 0.25 passing these as positional arguments will result in an error\n",
      "  warnings.warn(\"Pass {} as keyword args. From version 0.25 \"\n",
      "C:\\Users\\Marc-Aurelien\\anaconda3\\lib\\site-packages\\sklearn\\utils\\validation.py:68: FutureWarning: Pass beta=0.5 as keyword args. From version 0.25 passing these as positional arguments will result in an error\n",
      "  warnings.warn(\"Pass {} as keyword args. From version 0.25 \"\n",
      "C:\\Users\\Marc-Aurelien\\anaconda3\\lib\\site-packages\\sklearn\\utils\\validation.py:68: FutureWarning: Pass beta=0.5 as keyword args. From version 0.25 passing these as positional arguments will result in an error\n",
      "  warnings.warn(\"Pass {} as keyword args. From version 0.25 \"\n",
      "C:\\Users\\Marc-Aurelien\\anaconda3\\lib\\site-packages\\sklearn\\utils\\validation.py:68: FutureWarning: Pass beta=0.5 as keyword args. From version 0.25 passing these as positional arguments will result in an error\n",
      "  warnings.warn(\"Pass {} as keyword args. From version 0.25 \"\n",
      "C:\\Users\\Marc-Aurelien\\anaconda3\\lib\\site-packages\\sklearn\\utils\\validation.py:68: FutureWarning: Pass beta=0.5 as keyword args. From version 0.25 passing these as positional arguments will result in an error\n",
      "  warnings.warn(\"Pass {} as keyword args. From version 0.25 \"\n",
      "C:\\Users\\Marc-Aurelien\\anaconda3\\lib\\site-packages\\sklearn\\utils\\validation.py:68: FutureWarning: Pass beta=0.5 as keyword args. From version 0.25 passing these as positional arguments will result in an error\n",
      "  warnings.warn(\"Pass {} as keyword args. From version 0.25 \"\n",
      "C:\\Users\\Marc-Aurelien\\anaconda3\\lib\\site-packages\\sklearn\\utils\\validation.py:68: FutureWarning: Pass beta=0.5 as keyword args. From version 0.25 passing these as positional arguments will result in an error\n",
      "  warnings.warn(\"Pass {} as keyword args. From version 0.25 \"\n",
      "C:\\Users\\Marc-Aurelien\\anaconda3\\lib\\site-packages\\sklearn\\utils\\validation.py:68: FutureWarning: Pass beta=0.5 as keyword args. From version 0.25 passing these as positional arguments will result in an error\n",
      "  warnings.warn(\"Pass {} as keyword args. From version 0.25 \"\n",
      "C:\\Users\\Marc-Aurelien\\anaconda3\\lib\\site-packages\\sklearn\\utils\\validation.py:68: FutureWarning: Pass beta=0.5 as keyword args. From version 0.25 passing these as positional arguments will result in an error\n",
      "  warnings.warn(\"Pass {} as keyword args. From version 0.25 \"\n",
      "C:\\Users\\Marc-Aurelien\\anaconda3\\lib\\site-packages\\sklearn\\utils\\validation.py:68: FutureWarning: Pass beta=0.5 as keyword args. From version 0.25 passing these as positional arguments will result in an error\n",
      "  warnings.warn(\"Pass {} as keyword args. From version 0.25 \"\n",
      "C:\\Users\\Marc-Aurelien\\anaconda3\\lib\\site-packages\\sklearn\\utils\\validation.py:68: FutureWarning: Pass beta=0.5 as keyword args. From version 0.25 passing these as positional arguments will result in an error\n",
      "  warnings.warn(\"Pass {} as keyword args. From version 0.25 \"\n",
      "C:\\Users\\Marc-Aurelien\\anaconda3\\lib\\site-packages\\sklearn\\utils\\validation.py:68: FutureWarning: Pass beta=0.5 as keyword args. From version 0.25 passing these as positional arguments will result in an error\n",
      "  warnings.warn(\"Pass {} as keyword args. From version 0.25 \"\n",
      "C:\\Users\\Marc-Aurelien\\anaconda3\\lib\\site-packages\\sklearn\\utils\\validation.py:68: FutureWarning: Pass beta=0.5 as keyword args. From version 0.25 passing these as positional arguments will result in an error\n",
      "  warnings.warn(\"Pass {} as keyword args. From version 0.25 \"\n",
      "C:\\Users\\Marc-Aurelien\\anaconda3\\lib\\site-packages\\sklearn\\linear_model\\_logistic.py:762: ConvergenceWarning: lbfgs failed to converge (status=1):\n",
      "STOP: TOTAL NO. of ITERATIONS REACHED LIMIT.\n",
      "\n",
      "Increase the number of iterations (max_iter) or scale the data as shown in:\n",
      "    https://scikit-learn.org/stable/modules/preprocessing.html\n",
      "Please also refer to the documentation for alternative solver options:\n",
      "    https://scikit-learn.org/stable/modules/linear_model.html#logistic-regression\n",
      "  n_iter_i = _check_optimize_result(\n",
      "C:\\Users\\Marc-Aurelien\\anaconda3\\lib\\site-packages\\sklearn\\utils\\validation.py:68: FutureWarning: Pass beta=0.5 as keyword args. From version 0.25 passing these as positional arguments will result in an error\n",
      "  warnings.warn(\"Pass {} as keyword args. From version 0.25 \"\n",
      "C:\\Users\\Marc-Aurelien\\anaconda3\\lib\\site-packages\\sklearn\\linear_model\\_logistic.py:762: ConvergenceWarning: lbfgs failed to converge (status=1):\n",
      "STOP: TOTAL NO. of ITERATIONS REACHED LIMIT.\n",
      "\n",
      "Increase the number of iterations (max_iter) or scale the data as shown in:\n",
      "    https://scikit-learn.org/stable/modules/preprocessing.html\n",
      "Please also refer to the documentation for alternative solver options:\n",
      "    https://scikit-learn.org/stable/modules/linear_model.html#logistic-regression\n",
      "  n_iter_i = _check_optimize_result(\n",
      "C:\\Users\\Marc-Aurelien\\anaconda3\\lib\\site-packages\\sklearn\\utils\\validation.py:68: FutureWarning: Pass beta=0.5 as keyword args. From version 0.25 passing these as positional arguments will result in an error\n",
      "  warnings.warn(\"Pass {} as keyword args. From version 0.25 \"\n"
     ]
    }
   ],
   "source": [
    "run = True\n",
    "if run == True:\n",
    "    results = {}\n",
    "\n",
    "    for clf in [clf_1, clf_2, clf_3, clf_4, clf_5,\n",
    "                clf_6, clf_7, clf_8, clf_9, clf_10]:\n",
    "\n",
    "        clf_name = clf.__class__.__name__\n",
    "        results[clf_name] = {}\n",
    "        for i, samples in enumerate([samples_1, samples_10, samples_100]):\n",
    "            results[clf_name][i] = train_predict(clf, samples, X_train, y_train, X_test, y_test)"
   ]
  },
  {
   "cell_type": "markdown",
   "metadata": {},
   "source": [
    "**The following visualization code displays the results for the various learners.**"
   ]
  },
  {
   "cell_type": "code",
   "execution_count": 28,
   "metadata": {},
   "outputs": [],
   "source": [
    "def evaluate(results, accuracy, f1):\n",
    "    \"\"\"\n",
    "    Visualization code to display results of various learners.\n",
    "    \n",
    "    inputs:\n",
    "      - learners: a list of supervised learners\n",
    "      - stats: a list of dictionaries of the statistic results from 'train_predict()'\n",
    "      - accuracy: The score for the naive predictor\n",
    "      - f1: The score for the naive predictor\n",
    "    \"\"\"\n",
    "  \n",
    "    # Create figure\n",
    "    fig, ax = pl.subplots(2, 3, figsize = (18,8))\n",
    "\n",
    "    # Constants\n",
    "    bar_width = 0.175\n",
    "    colors = ['#1170aa','#ffbc79','#5fa2ce', '#c85200', '#c8d0d9']\n",
    "    \n",
    "    # Super loop to plot four panels of data\n",
    "    for k, learner in enumerate(results.keys()):\n",
    "        for j, metric in enumerate(['train_time', 'acc_train', 'f_train', 'pred_time', 'acc_test', 'f_test']):\n",
    "            for i in np.arange(3):\n",
    "                # Creative plot code\n",
    "                ax[j//3, j%3].bar(i+k*bar_width+0.15, \n",
    "                                  results[learner][i][metric], \n",
    "                                  width = bar_width,\n",
    "                                  color = colors[k])\n",
    "                ax[j//3, j%3].set_xticks([0.5, 1.5, 2.5])\n",
    "                ax[j//3, j%3].set_xticklabels([\"1%\", \"10%\", \"100%\"])\n",
    "                ax[j//3, j%3].set_xlim((-0.1, 3.1))\n",
    "                for spine in ax[j//3, j%3].spines.values():\n",
    "                    spine.set_visible(False)\n",
    "    \n",
    "    # Add unique y-labels\n",
    "    ax[0, 0].set_ylabel(\"Time (in seconds)\")\n",
    "    ax[0, 1].set_ylabel(\"Accuracy Score\")\n",
    "    ax[0, 2].set_ylabel(\"F-score\")\n",
    "    ax[1, 0].set_ylabel(\"Time (in seconds)\")\n",
    "    ax[1, 1].set_ylabel(\"Accuracy Score\")\n",
    "    ax[1, 2].set_ylabel(\"F-score\")\n",
    "    \n",
    "    # Add titles\n",
    "    ax[0, 0].set_title(\"Model Training\")\n",
    "    ax[0, 1].set_title(\"Accuracy Score on Training Subset\")\n",
    "    ax[0, 2].set_title(\"F-score on Training Subset\")\n",
    "    ax[1, 0].set_title(\"Model Predicting\")\n",
    "    ax[1, 1].set_title(\"Accuracy Score on Testing Set\")\n",
    "    ax[1, 2].set_title(\"F-score on Testing Set\")\n",
    "    \n",
    "    # Add horizontal lines for naive predictors\n",
    "    ax[0, 1].axhline(y = accuracy, xmin = -0.1, xmax = 3.0, linewidth = 1, color = 'k', linestyle = 'dashed')\n",
    "    ax[1, 1].axhline(y = accuracy, xmin = -0.1, xmax = 3.0, linewidth = 1, color = 'k', linestyle = 'dashed')\n",
    "    ax[0, 2].axhline(y = f1, xmin = -0.1, xmax = 3.0, linewidth = 1, color = 'k', linestyle = 'dashed')\n",
    "    ax[1, 2].axhline(y = f1, xmin = -0.1, xmax = 3.0, linewidth = 1, color = 'k', linestyle = 'dashed')\n",
    "    \n",
    "    # Set y-limits for score panels\n",
    "    ax[0, 1].set_ylim((0, 1))\n",
    "    ax[0, 2].set_ylim((0, 1))\n",
    "    ax[1, 1].set_ylim((0, 1))\n",
    "    ax[1, 2].set_ylim((0, 1))\n",
    "\n",
    "    # Create patches for the legend\n",
    "    patches = []\n",
    "    for i, learner in enumerate(results.keys()):\n",
    "        patches.append(mpatches.Patch(color = colors[i], label = learner))\n",
    "    pl.legend(handles = patches, bbox_to_anchor = (-.80, 2.45), \\\n",
    "              loc = 'upper center', borderaxespad = 0., ncol = 5, frameon=False, fontsize = 12)\n",
    "    \n",
    "    # Aesthetics\n",
    "    pl.suptitle(\"Performance Metrics for Supervised Learning Models\", fontsize = 16, y = 1)\n",
    "    pl.show()"
   ]
  },
  {
   "cell_type": "code",
   "execution_count": 29,
   "metadata": {},
   "outputs": [],
   "source": [
    "first_five_keys = list(results.keys())[:5]\n",
    "last_five_keys = list(results.keys())[5:]\n",
    "first_five_results = {key: results[key] for key in first_five_keys}\n",
    "last_five_results = {key: results[key] for key in last_five_keys}"
   ]
  },
  {
   "cell_type": "code",
   "execution_count": 30,
   "metadata": {},
   "outputs": [
    {
     "data": {
      "image/png": "[encoded data removed]",
      "text/plain": [
       "<Figure size 1296x576 with 6 Axes>"
      ]
     },
     "metadata": {
      "needs_background": "light"
     },
     "output_type": "display_data"
    }
   ],
   "source": [
    "evaluate(first_five_results, accuracy, fscore)"
   ]
  },
  {
   "cell_type": "code",
   "execution_count": 31,
   "metadata": {},
   "outputs": [
    {
     "data": {
      "image/png": "[encoded data removed]",
      "text/plain": [
       "<Figure size 1296x576 with 6 Axes>"
      ]
     },
     "metadata": {
      "needs_background": "light"
     },
     "output_type": "display_data"
    }
   ],
   "source": [
    "evaluate(last_five_results, accuracy, fscore)"
   ]
  },
  {
   "cell_type": "code",
   "execution_count": 32,
   "metadata": {},
   "outputs": [],
   "source": [
    "r = (pd.DataFrame(results)\n",
    "     .T\n",
    "     .drop(columns=[0,1])\n",
    "     .rename(columns={2:'parameters'})\n",
    "     .reset_index()\n",
    "     .rename(columns={'index':'model'}))\n",
    "copy = r.copy()\n",
    "params = pd.DataFrame()\n",
    "for model in r['model']:\n",
    "    param_dict = copy[copy['model']==model]['parameters'].values[0]\n",
    "    p = (pd.DataFrame(param_dict,\n",
    "                      [model])\n",
    "         .reset_index()\n",
    "         .rename(columns={'index':'model'}))\n",
    "    params = (params.append(p))\n",
    "params = (params\n",
    "          .reset_index(drop=True))\n",
    "for time in ['train_time','pred_time']:\n",
    "    params[time] = params[time].round(1)\n",
    "for acc in ['acc_train','acc_test','f_train','f_test']:\n",
    "    params[acc] = (params[acc] * 100.).round(1)\n",
    "params['acc_delta'] = params['acc_train'] - params['acc_test']\n",
    "params['f_delta'] = params['f_train'] - params['f_test']"
   ]
  },
  {
   "cell_type": "code",
   "execution_count": 33,
   "metadata": {},
   "outputs": [],
   "source": [
    "def sort_params_by(parameter, params):\n",
    "    params = (params\n",
    "              .sort_values([parameter],\n",
    "                           ascending=False)\n",
    "              .reset_index(drop=True))\n",
    "    params['acc_delta'] = params['acc_train'] - params['acc_test']\n",
    "    params['f_delta'] = params['f_train'] - params['f_test']\n",
    "    params.index += 1\n",
    "    return params"
   ]
  },
  {
   "cell_type": "code",
   "execution_count": 34,
   "metadata": {},
   "outputs": [
    {
     "data": {
      "text/html": [
       "<div>\n",
       "<style scoped>\n",
       "    .dataframe tbody tr th:only-of-type {\n",
       "        vertical-align: middle;\n",
       "    }\n",
       "\n",
       "    .dataframe tbody tr th {\n",
       "        vertical-align: top;\n",
       "    }\n",
       "\n",
       "    .dataframe thead th {\n",
       "        text-align: right;\n",
       "    }\n",
       "</style>\n",
       "<table border=\"1\" class=\"dataframe\">\n",
       "  <thead>\n",
       "    <tr style=\"text-align: right;\">\n",
       "      <th></th>\n",
       "      <th>model</th>\n",
       "      <th>train_time</th>\n",
       "      <th>pred_time</th>\n",
       "      <th>acc_train</th>\n",
       "      <th>acc_test</th>\n",
       "      <th>f_train</th>\n",
       "      <th>f_test</th>\n",
       "      <th>acc_delta</th>\n",
       "      <th>f_delta</th>\n",
       "    </tr>\n",
       "  </thead>\n",
       "  <tbody>\n",
       "    <tr>\n",
       "      <th>1</th>\n",
       "      <td>GradientBoostingClassifier</td>\n",
       "      <td>16.3</td>\n",
       "      <td>0.1</td>\n",
       "      <td>85.7</td>\n",
       "      <td>86.3</td>\n",
       "      <td>73.4</td>\n",
       "      <td>74.0</td>\n",
       "      <td>-0.6</td>\n",
       "      <td>-0.6</td>\n",
       "    </tr>\n",
       "    <tr>\n",
       "      <th>2</th>\n",
       "      <td>AdaBoostClassifier</td>\n",
       "      <td>6.6</td>\n",
       "      <td>0.5</td>\n",
       "      <td>85.0</td>\n",
       "      <td>85.8</td>\n",
       "      <td>71.2</td>\n",
       "      <td>72.5</td>\n",
       "      <td>-0.8</td>\n",
       "      <td>-1.3</td>\n",
       "    </tr>\n",
       "    <tr>\n",
       "      <th>3</th>\n",
       "      <td>BaggingClassifier</td>\n",
       "      <td>7.4</td>\n",
       "      <td>0.2</td>\n",
       "      <td>97.3</td>\n",
       "      <td>84.3</td>\n",
       "      <td>95.9</td>\n",
       "      <td>68.3</td>\n",
       "      <td>13.0</td>\n",
       "      <td>27.6</td>\n",
       "    </tr>\n",
       "    <tr>\n",
       "      <th>4</th>\n",
       "      <td>RandomForestClassifier</td>\n",
       "      <td>12.1</td>\n",
       "      <td>0.6</td>\n",
       "      <td>97.7</td>\n",
       "      <td>84.2</td>\n",
       "      <td>97.1</td>\n",
       "      <td>68.1</td>\n",
       "      <td>13.5</td>\n",
       "      <td>29.0</td>\n",
       "    </tr>\n",
       "    <tr>\n",
       "      <th>5</th>\n",
       "      <td>SVC</td>\n",
       "      <td>206.1</td>\n",
       "      <td>34.8</td>\n",
       "      <td>85.3</td>\n",
       "      <td>84.2</td>\n",
       "      <td>71.7</td>\n",
       "      <td>68.5</td>\n",
       "      <td>1.1</td>\n",
       "      <td>3.2</td>\n",
       "    </tr>\n",
       "    <tr>\n",
       "      <th>6</th>\n",
       "      <td>LogisticRegression</td>\n",
       "      <td>1.3</td>\n",
       "      <td>0.0</td>\n",
       "      <td>84.7</td>\n",
       "      <td>84.2</td>\n",
       "      <td>69.9</td>\n",
       "      <td>68.3</td>\n",
       "      <td>0.5</td>\n",
       "      <td>1.6</td>\n",
       "    </tr>\n",
       "    <tr>\n",
       "      <th>7</th>\n",
       "      <td>SGDClassifier</td>\n",
       "      <td>0.8</td>\n",
       "      <td>0.0</td>\n",
       "      <td>85.3</td>\n",
       "      <td>84.1</td>\n",
       "      <td>71.4</td>\n",
       "      <td>67.9</td>\n",
       "      <td>1.2</td>\n",
       "      <td>3.5</td>\n",
       "    </tr>\n",
       "    <tr>\n",
       "      <th>8</th>\n",
       "      <td>KNeighborsClassifier</td>\n",
       "      <td>4.4</td>\n",
       "      <td>51.9</td>\n",
       "      <td>88.3</td>\n",
       "      <td>82.3</td>\n",
       "      <td>77.2</td>\n",
       "      <td>63.7</td>\n",
       "      <td>6.0</td>\n",
       "      <td>13.5</td>\n",
       "    </tr>\n",
       "    <tr>\n",
       "      <th>9</th>\n",
       "      <td>DecisionTreeClassifier</td>\n",
       "      <td>1.1</td>\n",
       "      <td>0.0</td>\n",
       "      <td>97.0</td>\n",
       "      <td>81.9</td>\n",
       "      <td>96.4</td>\n",
       "      <td>62.8</td>\n",
       "      <td>15.1</td>\n",
       "      <td>33.6</td>\n",
       "    </tr>\n",
       "    <tr>\n",
       "      <th>10</th>\n",
       "      <td>GaussianNB</td>\n",
       "      <td>0.2</td>\n",
       "      <td>0.1</td>\n",
       "      <td>59.3</td>\n",
       "      <td>59.8</td>\n",
       "      <td>41.2</td>\n",
       "      <td>42.1</td>\n",
       "      <td>-0.5</td>\n",
       "      <td>-0.9</td>\n",
       "    </tr>\n",
       "  </tbody>\n",
       "</table>\n",
       "</div>"
      ],
      "text/plain": [
       "                         model  train_time  pred_time  acc_train  acc_test  \\\n",
       "1   GradientBoostingClassifier        16.3        0.1       85.7      86.3   \n",
       "2           AdaBoostClassifier         6.6        0.5       85.0      85.8   \n",
       "3            BaggingClassifier         7.4        0.2       97.3      84.3   \n",
       "4       RandomForestClassifier        12.1        0.6       97.7      84.2   \n",
       "5                          SVC       206.1       34.8       85.3      84.2   \n",
       "6           LogisticRegression         1.3        0.0       84.7      84.2   \n",
       "7                SGDClassifier         0.8        0.0       85.3      84.1   \n",
       "8         KNeighborsClassifier         4.4       51.9       88.3      82.3   \n",
       "9       DecisionTreeClassifier         1.1        0.0       97.0      81.9   \n",
       "10                  GaussianNB         0.2        0.1       59.3      59.8   \n",
       "\n",
       "    f_train  f_test  acc_delta  f_delta  \n",
       "1      73.4    74.0       -0.6     -0.6  \n",
       "2      71.2    72.5       -0.8     -1.3  \n",
       "3      95.9    68.3       13.0     27.6  \n",
       "4      97.1    68.1       13.5     29.0  \n",
       "5      71.7    68.5        1.1      3.2  \n",
       "6      69.9    68.3        0.5      1.6  \n",
       "7      71.4    67.9        1.2      3.5  \n",
       "8      77.2    63.7        6.0     13.5  \n",
       "9      96.4    62.8       15.1     33.6  \n",
       "10     41.2    42.1       -0.5     -0.9  "
      ]
     },
     "execution_count": 34,
     "metadata": {},
     "output_type": "execute_result"
    }
   ],
   "source": [
    "sort_params_by('acc_test', params)"
   ]
  },
  {
   "cell_type": "code",
   "execution_count": 35,
   "metadata": {},
   "outputs": [
    {
     "data": {
      "text/html": [
       "<div>\n",
       "<style scoped>\n",
       "    .dataframe tbody tr th:only-of-type {\n",
       "        vertical-align: middle;\n",
       "    }\n",
       "\n",
       "    .dataframe tbody tr th {\n",
       "        vertical-align: top;\n",
       "    }\n",
       "\n",
       "    .dataframe thead th {\n",
       "        text-align: right;\n",
       "    }\n",
       "</style>\n",
       "<table border=\"1\" class=\"dataframe\">\n",
       "  <thead>\n",
       "    <tr style=\"text-align: right;\">\n",
       "      <th></th>\n",
       "      <th>model</th>\n",
       "      <th>train_time</th>\n",
       "      <th>pred_time</th>\n",
       "      <th>acc_train</th>\n",
       "      <th>acc_test</th>\n",
       "      <th>f_train</th>\n",
       "      <th>f_test</th>\n",
       "      <th>acc_delta</th>\n",
       "      <th>f_delta</th>\n",
       "    </tr>\n",
       "  </thead>\n",
       "  <tbody>\n",
       "    <tr>\n",
       "      <th>1</th>\n",
       "      <td>GradientBoostingClassifier</td>\n",
       "      <td>16.3</td>\n",
       "      <td>0.1</td>\n",
       "      <td>85.7</td>\n",
       "      <td>86.3</td>\n",
       "      <td>73.4</td>\n",
       "      <td>74.0</td>\n",
       "      <td>-0.6</td>\n",
       "      <td>-0.6</td>\n",
       "    </tr>\n",
       "  </tbody>\n",
       "</table>\n",
       "</div>"
      ],
      "text/plain": [
       "                        model  train_time  pred_time  acc_train  acc_test  \\\n",
       "1  GradientBoostingClassifier        16.3        0.1       85.7      86.3   \n",
       "\n",
       "   f_train  f_test  acc_delta  f_delta  \n",
       "1     73.4    74.0       -0.6     -0.6  "
      ]
     },
     "execution_count": 35,
     "metadata": {},
     "output_type": "execute_result"
    }
   ],
   "source": [
    "sort_params_by('f_test', params)[:1]"
   ]
  },
  {
   "cell_type": "code",
   "execution_count": 36,
   "metadata": {},
   "outputs": [
    {
     "data": {
      "text/html": [
       "<div>\n",
       "<style scoped>\n",
       "    .dataframe tbody tr th:only-of-type {\n",
       "        vertical-align: middle;\n",
       "    }\n",
       "\n",
       "    .dataframe tbody tr th {\n",
       "        vertical-align: top;\n",
       "    }\n",
       "\n",
       "    .dataframe thead th {\n",
       "        text-align: right;\n",
       "    }\n",
       "</style>\n",
       "<table border=\"1\" class=\"dataframe\">\n",
       "  <thead>\n",
       "    <tr style=\"text-align: right;\">\n",
       "      <th></th>\n",
       "      <th>model</th>\n",
       "      <th>train_time</th>\n",
       "      <th>pred_time</th>\n",
       "      <th>acc_train</th>\n",
       "      <th>acc_test</th>\n",
       "      <th>f_train</th>\n",
       "      <th>f_test</th>\n",
       "      <th>acc_delta</th>\n",
       "      <th>f_delta</th>\n",
       "    </tr>\n",
       "  </thead>\n",
       "  <tbody>\n",
       "    <tr>\n",
       "      <th>1</th>\n",
       "      <td>RandomForestClassifier</td>\n",
       "      <td>12.1</td>\n",
       "      <td>0.6</td>\n",
       "      <td>97.7</td>\n",
       "      <td>84.2</td>\n",
       "      <td>97.1</td>\n",
       "      <td>68.1</td>\n",
       "      <td>13.5</td>\n",
       "      <td>29.0</td>\n",
       "    </tr>\n",
       "    <tr>\n",
       "      <th>2</th>\n",
       "      <td>BaggingClassifier</td>\n",
       "      <td>7.4</td>\n",
       "      <td>0.2</td>\n",
       "      <td>97.3</td>\n",
       "      <td>84.3</td>\n",
       "      <td>95.9</td>\n",
       "      <td>68.3</td>\n",
       "      <td>13.0</td>\n",
       "      <td>27.6</td>\n",
       "    </tr>\n",
       "    <tr>\n",
       "      <th>3</th>\n",
       "      <td>DecisionTreeClassifier</td>\n",
       "      <td>1.1</td>\n",
       "      <td>0.0</td>\n",
       "      <td>97.0</td>\n",
       "      <td>81.9</td>\n",
       "      <td>96.4</td>\n",
       "      <td>62.8</td>\n",
       "      <td>15.1</td>\n",
       "      <td>33.6</td>\n",
       "    </tr>\n",
       "    <tr>\n",
       "      <th>4</th>\n",
       "      <td>KNeighborsClassifier</td>\n",
       "      <td>4.4</td>\n",
       "      <td>51.9</td>\n",
       "      <td>88.3</td>\n",
       "      <td>82.3</td>\n",
       "      <td>77.2</td>\n",
       "      <td>63.7</td>\n",
       "      <td>6.0</td>\n",
       "      <td>13.5</td>\n",
       "    </tr>\n",
       "    <tr>\n",
       "      <th>5</th>\n",
       "      <td>GradientBoostingClassifier</td>\n",
       "      <td>16.3</td>\n",
       "      <td>0.1</td>\n",
       "      <td>85.7</td>\n",
       "      <td>86.3</td>\n",
       "      <td>73.4</td>\n",
       "      <td>74.0</td>\n",
       "      <td>-0.6</td>\n",
       "      <td>-0.6</td>\n",
       "    </tr>\n",
       "  </tbody>\n",
       "</table>\n",
       "</div>"
      ],
      "text/plain": [
       "                        model  train_time  pred_time  acc_train  acc_test  \\\n",
       "1      RandomForestClassifier        12.1        0.6       97.7      84.2   \n",
       "2           BaggingClassifier         7.4        0.2       97.3      84.3   \n",
       "3      DecisionTreeClassifier         1.1        0.0       97.0      81.9   \n",
       "4        KNeighborsClassifier         4.4       51.9       88.3      82.3   \n",
       "5  GradientBoostingClassifier        16.3        0.1       85.7      86.3   \n",
       "\n",
       "   f_train  f_test  acc_delta  f_delta  \n",
       "1     97.1    68.1       13.5     29.0  \n",
       "2     95.9    68.3       13.0     27.6  \n",
       "3     96.4    62.8       15.1     33.6  \n",
       "4     77.2    63.7        6.0     13.5  \n",
       "5     73.4    74.0       -0.6     -0.6  "
      ]
     },
     "execution_count": 36,
     "metadata": {},
     "output_type": "execute_result"
    }
   ],
   "source": [
    "sort_params_by('acc_train', params)[:5]"
   ]
  },
  {
   "cell_type": "code",
   "execution_count": 37,
   "metadata": {},
   "outputs": [
    {
     "data": {
      "text/html": [
       "<div>\n",
       "<style scoped>\n",
       "    .dataframe tbody tr th:only-of-type {\n",
       "        vertical-align: middle;\n",
       "    }\n",
       "\n",
       "    .dataframe tbody tr th {\n",
       "        vertical-align: top;\n",
       "    }\n",
       "\n",
       "    .dataframe thead th {\n",
       "        text-align: right;\n",
       "    }\n",
       "</style>\n",
       "<table border=\"1\" class=\"dataframe\">\n",
       "  <thead>\n",
       "    <tr style=\"text-align: right;\">\n",
       "      <th></th>\n",
       "      <th>model</th>\n",
       "      <th>train_time</th>\n",
       "      <th>pred_time</th>\n",
       "      <th>acc_train</th>\n",
       "      <th>acc_test</th>\n",
       "      <th>f_train</th>\n",
       "      <th>f_test</th>\n",
       "      <th>acc_delta</th>\n",
       "      <th>f_delta</th>\n",
       "    </tr>\n",
       "  </thead>\n",
       "  <tbody>\n",
       "    <tr>\n",
       "      <th>1</th>\n",
       "      <td>RandomForestClassifier</td>\n",
       "      <td>12.1</td>\n",
       "      <td>0.6</td>\n",
       "      <td>97.7</td>\n",
       "      <td>84.2</td>\n",
       "      <td>97.1</td>\n",
       "      <td>68.1</td>\n",
       "      <td>13.5</td>\n",
       "      <td>29.0</td>\n",
       "    </tr>\n",
       "    <tr>\n",
       "      <th>2</th>\n",
       "      <td>DecisionTreeClassifier</td>\n",
       "      <td>1.1</td>\n",
       "      <td>0.0</td>\n",
       "      <td>97.0</td>\n",
       "      <td>81.9</td>\n",
       "      <td>96.4</td>\n",
       "      <td>62.8</td>\n",
       "      <td>15.1</td>\n",
       "      <td>33.6</td>\n",
       "    </tr>\n",
       "    <tr>\n",
       "      <th>3</th>\n",
       "      <td>BaggingClassifier</td>\n",
       "      <td>7.4</td>\n",
       "      <td>0.2</td>\n",
       "      <td>97.3</td>\n",
       "      <td>84.3</td>\n",
       "      <td>95.9</td>\n",
       "      <td>68.3</td>\n",
       "      <td>13.0</td>\n",
       "      <td>27.6</td>\n",
       "    </tr>\n",
       "    <tr>\n",
       "      <th>4</th>\n",
       "      <td>KNeighborsClassifier</td>\n",
       "      <td>4.4</td>\n",
       "      <td>51.9</td>\n",
       "      <td>88.3</td>\n",
       "      <td>82.3</td>\n",
       "      <td>77.2</td>\n",
       "      <td>63.7</td>\n",
       "      <td>6.0</td>\n",
       "      <td>13.5</td>\n",
       "    </tr>\n",
       "    <tr>\n",
       "      <th>5</th>\n",
       "      <td>GradientBoostingClassifier</td>\n",
       "      <td>16.3</td>\n",
       "      <td>0.1</td>\n",
       "      <td>85.7</td>\n",
       "      <td>86.3</td>\n",
       "      <td>73.4</td>\n",
       "      <td>74.0</td>\n",
       "      <td>-0.6</td>\n",
       "      <td>-0.6</td>\n",
       "    </tr>\n",
       "  </tbody>\n",
       "</table>\n",
       "</div>"
      ],
      "text/plain": [
       "                        model  train_time  pred_time  acc_train  acc_test  \\\n",
       "1      RandomForestClassifier        12.1        0.6       97.7      84.2   \n",
       "2      DecisionTreeClassifier         1.1        0.0       97.0      81.9   \n",
       "3           BaggingClassifier         7.4        0.2       97.3      84.3   \n",
       "4        KNeighborsClassifier         4.4       51.9       88.3      82.3   \n",
       "5  GradientBoostingClassifier        16.3        0.1       85.7      86.3   \n",
       "\n",
       "   f_train  f_test  acc_delta  f_delta  \n",
       "1     97.1    68.1       13.5     29.0  \n",
       "2     96.4    62.8       15.1     33.6  \n",
       "3     95.9    68.3       13.0     27.6  \n",
       "4     77.2    63.7        6.0     13.5  \n",
       "5     73.4    74.0       -0.6     -0.6  "
      ]
     },
     "execution_count": 37,
     "metadata": {},
     "output_type": "execute_result"
    }
   ],
   "source": [
    "sort_params_by('f_train', params)[:5]"
   ]
  },
  {
   "cell_type": "markdown",
   "metadata": {},
   "source": [
    "## Select Top Model and Discuss Results\n",
    "\n",
    "As shown in the table and charts above, the top-performing algorithm is the **GradientBoostingClassifier**.\n",
    "\n",
    "- It has the highest accuracy and f-score on the test set.\n",
    "\n",
    "- It has the fifth highest accuracy and f-score on the training set, but all models that outperformed it on these two metrics overfit the data.\n",
    "\n",
    "- The evidence of the overfit is the large deltas these models have between their performance on the training set and testing set. These deltas range from 6 percentage points on the low end to 33.6 percentage points on the high end. \n",
    "\n",
    "- The GradientBoostingClassifier, on the other hand, actually performs slightly better on the test set than on the training set.\n",
    "\n",
    "- The training and prediction time both only take single-digits seconds to complete. The SVC classifier took the longest to train, by far, while the KNeighborsClassifier took the longest to predict.\n",
    "\n",
    "As an ensemble learner that is suited to classification, the GradientBoostingClassifier is well-suited to this dataset."
   ]
  },
  {
   "cell_type": "markdown",
   "metadata": {},
   "source": [
    "## Model Description 1, 2, 3\n",
    "\n",
    "Sklearn’s **GradientBoostingClassifier** is one specific implementation of Gradient Boosting. GB is a group of algorithms that are referred to as ensemble learners because they involve creating groups, or ensembles, of many other “weak learners” which vote on the output of the overall group. Weak learners is a term used to describe a simple model that is able to correctly predict more often than a random choice, but which are not powerful enough to be used as a predictor on their own. These weak learners are generally decision trees. These weak learners are sometimes referred to as decision stumps because their structure is often very limited. Often, they are a single decision node, for example.\n",
    "\n",
    "**Gradient Boosting** begins by fitting a single weak learner on the dataset. New, additional weak learners are iteratively added to the ensemble. Those new learners are specifically trained to reduce error between the model’s predictions and the true labels in the dataset. By “focusing on the weak spots,” the performance of the overall model is improved with each training iteration. Once the model reaches a certain performance and/or complexity, the model training is considered completed and no additional learners are added. The trained model makes predictions by having the ensembled learners vote on each prediction the model makes."
   ]
  },
  {
   "cell_type": "markdown",
   "metadata": {},
   "source": [
    "# Optimize the Top-Performing Model\n",
    "\n",
    "- Optimize Hyperparameters to find the top-performing model.\n",
    "- Evaluate the Performance of the tuned model.\n",
    "- Extract Feature Importance from the trained model.\n",
    "- Quantify Effects of Feature Selecting by training a different model on only the most important features."
   ]
  },
  {
   "cell_type": "code",
   "execution_count": 39,
   "metadata": {},
   "outputs": [],
   "source": [
    "y_train = pd.read_csv('y_train.csv',\n",
    "                      index_col=0)\n",
    "y_test = pd.read_csv('y_test.csv',\n",
    "                     index_col=0)\n",
    "y = y_train.append(y_test)"
   ]
  },
  {
   "cell_type": "markdown",
   "metadata": {},
   "source": [
    "## Tune Hyperparameters"
   ]
  },
  {
   "cell_type": "code",
   "execution_count": 40,
   "metadata": {},
   "outputs": [],
   "source": [
    "from sklearn.ensemble import GradientBoostingClassifier\n",
    "\n",
    "from sklearn.model_selection import GridSearchCV\n",
    "from sklearn.metrics import (make_scorer,\n",
    "                             fbeta_score)"
   ]
  },
  {
   "cell_type": "markdown",
   "metadata": {},
   "source": [
    "### Define Functions to Summarize Performance Data"
   ]
  },
  {
   "cell_type": "code",
   "execution_count": 41,
   "metadata": {},
   "outputs": [],
   "source": [
    "def reshape_grid_search_results(raw_results):\n",
    "    r = (raw_results\n",
    "         .drop(columns=['mean_fit_time', 'std_fit_time', \n",
    "                        'mean_score_time', 'std_score_time', 'params',\n",
    "                        'mean_test_score', 'std_test_score']))\n",
    "        \n",
    "    r.columns = r.columns.str.replace('param_','')\n",
    "    r = (r\n",
    "         .set_index(['learning_rate',\n",
    "                     'max_depth',\n",
    "                     'min_samples_leaf',\n",
    "                     'rank_test_score'])\n",
    "         .stack()\n",
    "         .reset_index()\n",
    "         .rename(columns={'level_4':'split',\n",
    "                          0:'score'}))\n",
    "    r['split'] = r['split'].str.extract('([0-5])')\n",
    "    r['score'] *= 100.\n",
    "    \n",
    "    return r"
   ]
  },
  {
   "cell_type": "code",
   "execution_count": 42,
   "metadata": {},
   "outputs": [],
   "source": [
    "def summarize_parameter(r, parameter):\n",
    "    mean = (r[[parameter,'score']]\n",
    "            .groupby(parameter)\n",
    "            .mean()\n",
    "            .rename(columns={'score':'mean'}))\n",
    "    std = (r[[parameter,'score']]\n",
    "           .groupby(parameter)\n",
    "           .std()\n",
    "           .rename(columns={'score':'std'}))\n",
    "    summary = (mean\n",
    "               .join(std)\n",
    "               .reset_index())\n",
    "    \n",
    "    return summary"
   ]
  },
  {
   "cell_type": "markdown",
   "metadata": {},
   "source": [
    "### Define Functions to Visualize Model Performance"
   ]
  },
  {
   "cell_type": "code",
   "execution_count": 43,
   "metadata": {},
   "outputs": [],
   "source": [
    "def plot_performance_histogram(r):\n",
    "    plt.figure(figsize=(11,8.5)) # figsize=(11,8.5)\n",
    "    ax = plt.gca()\n",
    "    \n",
    "    ax.hist(r['score'],\n",
    "            bins=np.arange(0,105,5),\n",
    "            align='mid')\n",
    "    \n",
    "    ax.set_xticks(np.arange(0,105,5))\n",
    "    ax.set_xlim([0,100])\n",
    "    \n",
    "    ax.spines['left'].set_visible(False)\n",
    "    ax.spines['top'].set_visible(False)\n",
    "    ax.spines['right'].set_visible(False)\n",
    "    \n",
    "    ax.tick_params(\n",
    "        axis='y',\n",
    "        left=False,\n",
    "        right=False,\n",
    "        labelleft=False)\n",
    "    \n",
    "    ymax = ax.get_ylim()[1]\n",
    "        \n",
    "    rects = ax.patches\n",
    "    for n, rect in enumerate(rects):\n",
    "        height = rect.get_height()\n",
    "        if height > 0:\n",
    "            plt.gca().text(rect.get_x() + rect.get_width() / 2,\n",
    "                           height + ymax/67,\n",
    "                           str(int(height)),\n",
    "                           ha='center',\n",
    "                           va='center')\n",
    "    \n",
    "    title_str = '''\n",
    "    Model Accuracy Distribution\\nTotal Models Trained: {}\n",
    "    '''.format(r['score'].count())\n",
    "    ax.set_title(title_str,\n",
    "                 fontsize=14)"
   ]
  },
  {
   "cell_type": "code",
   "execution_count": 44,
   "metadata": {},
   "outputs": [],
   "source": [
    "def plot_performance_curve(r, param):\n",
    "    plt.figure(figsize=(8,6)) # figsize=(8,6)\n",
    "    ax = plt.gca()\n",
    "    \n",
    "    s = summarize_parameter(r, param)\n",
    "    \n",
    "    ax.set_title('Performance Curve\\n' + param)\n",
    "    ax.set_xticks(s[param])\n",
    "    ax.set_ylim([30,80])\n",
    "    ax.set_ylabel('Score')\n",
    "    \n",
    "    for spine in ax.spines.values():\n",
    "        spine.set_visible(False)\n",
    "    \n",
    "    ax.grid()\n",
    "    ax.tick_params(\n",
    "        axis='x',\n",
    "        bottom=False)\n",
    "    ax.tick_params(\n",
    "        axis='y',\n",
    "        left=False,\n",
    "        right=False)\n",
    "    \n",
    "    ax.plot(s[param], \n",
    "            s['mean'], \n",
    "            'o-',\n",
    "            color='navy')\n",
    "    ax.fill_between(s[param], \n",
    "                    s['mean']-s['std'], \n",
    "                    s['mean']+s['std'], \n",
    "                    alpha=0.1,\n",
    "                    color='navy')"
   ]
  },
  {
   "cell_type": "markdown",
   "metadata": {},
   "source": [
    "### Define Function to Iteratively Tune Hyperparameters\n",
    "\n",
    "- Define the model.\n",
    "- Define the hyperparameter search space.\n",
    "- Define the scorer.\n",
    "- beta = 0.5 places more emphasis on precision.\n",
    "- Define the GridSearch object.\n",
    "- n_jobs=-1: utilizes all processors in parallel.\n",
    "- verbose=2: means more messages are printed during training.\n",
    "- Fit the GridSearch.\n",
    "- Visualize using Performance Histograms and Performance Curves.\n",
    "- Iterate as required."
   ]
  },
  {
   "cell_type": "code",
   "execution_count": 45,
   "metadata": {},
   "outputs": [],
   "source": [
    "def tune_and_visualize(clf, parameters):\n",
    "    scorer = make_scorer(fbeta_score, \n",
    "                         beta=0.5)\n",
    "    grid_obj = GridSearchCV(clf, \n",
    "                            parameters, \n",
    "                            scoring=scorer,\n",
    "                            n_jobs=-1,\n",
    "                            verbose=2)\n",
    "    \n",
    "    grid_fit = grid_obj.fit(X_train, \n",
    "                            y_train.values.ravel())\n",
    "    raw_results = pd.DataFrame(grid_fit.cv_results_)\n",
    "    \n",
    "    r = reshape_grid_search_results(raw_results)\n",
    "    \n",
    "    plot_performance_histogram(r)\n",
    "    \n",
    "    for param in parameters.keys():\n",
    "        plot_performance_curve(r, param)\n",
    "    \n",
    "    return r, raw_results, grid_fit"
   ]
  },
  {
   "cell_type": "markdown",
   "metadata": {},
   "source": [
    "### Begin Hyperparameter Tuning"
   ]
  },
  {
   "cell_type": "code",
   "execution_count": null,
   "metadata": {},
   "outputs": [
    {
     "name": "stdout",
     "output_type": "stream",
     "text": [
      "Fitting 5 folds for each of 175 candidates, totalling 875 fits\n"
     ]
    },
    {
     "name": "stderr",
     "output_type": "stream",
     "text": [
      "[Parallel(n_jobs=-1)]: Using backend LokyBackend with 4 concurrent workers.\n",
      "[Parallel(n_jobs=-1)]: Done  33 tasks      | elapsed:  1.3min\n",
      "[Parallel(n_jobs=-1)]: Done 154 tasks      | elapsed:  9.0min\n"
     ]
    }
   ],
   "source": [
    "clf = GradientBoostingClassifier(random_state=42)\n",
    "parameters = {'learning_rate'     : np.arange( 0.4,  2.4, 0.4), # Default: 0.1\n",
    "              'max_depth'         : np.arange(   1,   6,    1), # Default: 3\n",
    "              'min_samples_leaf'  : np.arange(0.05, 0.4, 0.05)} # Default: 1\n",
    "\n",
    "pass_1_r, pass_1_raw, pass_1_grid_fit = tune_and_visualize(clf, parameters)"
   ]
  },
  {
   "cell_type": "markdown",
   "metadata": {},
   "source": [
    "**Notes from first pass:**\n",
    "- The top 10% of the configurations all had min_samples_leaf <= 0.1.\n",
    "- Mean performance drops and the standard deviation increases sharply with learning_rate > 1.2."
   ]
  },
  {
   "cell_type": "code",
   "execution_count": null,
   "metadata": {},
   "outputs": [],
   "source": [
    "clf = GradientBoostingClassifier(random_state=42)\n",
    "parameters = {'learning_rate'     : np.arange( 0.2,  1.6,  0.2), # Default: 0.1\n",
    "              'max_depth'         : np.arange(   1,    6,    1), # Default: 3\n",
    "              'min_samples_leaf'  : np.arange(0.02, 0.12, 0.02)} # Default: 1\n",
    "\n",
    "pass_2_r, pass_2_raw, pass_2_grid_fit = tune_and_visualize(clf, parameters)"
   ]
  },
  {
   "cell_type": "markdown",
   "metadata": {},
   "source": [
    "**Notes from second pass:**\n",
    "\n",
    "- Performance appears to decrease monotonically with increasing min_samples_leaf. The training set consists of 36177 instances.\n",
    "\n",
    "- Since we are using the default 5-fold validation, each model is trained on roughly 7235 instances. So, with min_samples_leaf of 0.02, each leaf must contain a minimum of roughly 145 instances. Given this, it may make sense to simply remove it as an optimization parameter since the default value is 1 node per leaf.\n",
    "\n",
    "- Performance across the other hyperparameters appears stable, except for a drop with learning_rate > 1.2."
   ]
  },
  {
   "cell_type": "code",
   "execution_count": null,
   "metadata": {},
   "outputs": [],
   "source": [
    "clf = GradientBoostingClassifier(random_state=42)\n",
    "parameters = {'learning_rate'     : np.arange( 0.1,  1.3,  0.1), # Default: 0.1\n",
    "              'max_depth'         : np.arange(   1,    6,    1), # Default: 3\n",
    "              'min_samples_leaf'  : [1]}                         # Default: 1\n",
    "\n",
    "pass_3_r, pass_3_raw, pass_3_grid_fit = tune_and_visualize(clf, parameters)"
   ]
  },
  {
   "cell_type": "markdown",
   "metadata": {},
   "source": [
    "**Notes from third pass:**\n",
    "\n",
    "Mean performance appears fairly stable across hyperparameter ranges, indicating further optimization will yield diminishing returns."
   ]
  },
  {
   "cell_type": "markdown",
   "metadata": {},
   "source": [
    "## Final Model Evaluation"
   ]
  },
  {
   "cell_type": "code",
   "execution_count": null,
   "metadata": {},
   "outputs": [],
   "source": [
    "def plot_overlaid_performance_histograms(rs):\n",
    "    plt.figure(figsize=(11,8.5))\n",
    "    ax = plt.gca()\n",
    "    \n",
    "    for n, r in enumerate(rs):\n",
    "        ax.hist(r['score'],\n",
    "                bins=np.arange(0,105,5),\n",
    "                alpha=0.35,\n",
    "                align='mid',\n",
    "                density=True,\n",
    "                label='Pass ' + str(n+1))\n",
    "\n",
    "    ax.set_xticks(np.arange(5,90,5))\n",
    "    ax.set_xlim([5,85])\n",
    "    \n",
    "    ax.spines['left'].set_visible(False)\n",
    "    ax.spines['top'].set_visible(False)\n",
    "    ax.spines['right'].set_visible(False)\n",
    "    \n",
    "    plt.ylim([0,0.18])\n",
    "    ymax = ax.get_ylim()[1]\n",
    "        \n",
    "    rects = ax.patches\n",
    "    for n, rect in enumerate(rects):\n",
    "        height = rect.get_height()\n",
    "        if height > 0:\n",
    "            # total area under each histogram with\n",
    "            #      hist density parameter sums to 0.2.\n",
    "            #      Factor of 5 corrects this.\n",
    "            plt.gca().text(rect.get_x() + rect.get_width() / 2,\n",
    "                           height + ymax/67,\n",
    "                           '{}%'.format(int(round(height*100*5))),\n",
    "                           ha='center',\n",
    "                           va='center',                            \n",
    "                           color=rect.get_facecolor(),\n",
    "                           alpha=1)\n",
    "    \n",
    "    ax.set_xlabel('Score',\n",
    "                  fontsize=12)\n",
    "    ax.set_ylabel('% of Models Trained on that Pass',\n",
    "                  fontsize=12)\n",
    "            \n",
    "    ax.tick_params(\n",
    "        axis='y',\n",
    "        left=False,\n",
    "        labelleft=False)\n",
    "    \n",
    "    ax.legend(\n",
    "    fancybox=True,\n",
    "    loc=9,\n",
    "    ncol=4,\n",
    "    facecolor='white',\n",
    "    edgecolor='white',\n",
    "    framealpha=1,\n",
    "    fontsize=12)\n",
    "\n",
    "    ax.set_title('Performance Histograms by Grid Search Iteration',\n",
    "                 fontsize=14)"
   ]
  },
  {
   "cell_type": "code",
   "execution_count": null,
   "metadata": {},
   "outputs": [],
   "source": [
    "plot_overlaid_performance_histograms([pass_1_r,\n",
    "                                      pass_2_r,\n",
    "                                      pass_3_r])"
   ]
  },
  {
   "cell_type": "markdown",
   "metadata": {},
   "source": [
    "As shown in the overlaid histograms above, each successive grid search iteration resulted in improved performance distribution due to improved parameter search."
   ]
  },
  {
   "cell_type": "code",
   "execution_count": null,
   "metadata": {},
   "outputs": [],
   "source": [
    "unoptimized = (GradientBoostingClassifier(random_state=42)\n",
    "               .fit(X_train, y_train.values.ravel()))"
   ]
  },
  {
   "cell_type": "code",
   "execution_count": null,
   "metadata": {},
   "outputs": [],
   "source": [
    "unoptimized_preds = unoptimized.predict(X_test)\n",
    "pass_1_preds = pass_1_grid_fit.best_estimator_.predict(X_test)\n",
    "pass_2_preds = pass_2_grid_fit.best_estimator_.predict(X_test)\n",
    "pass_3_preds = pass_3_grid_fit.best_estimator_.predict(X_test)\n",
    "\n",
    "naive_pred_acc = 0.248\n",
    "unoptimized_acc = accuracy_score(y_test, unoptimized_preds)\n",
    "pass_1_acc = accuracy_score(y_test, pass_1_preds)\n",
    "pass_2_acc = accuracy_score(y_test, pass_2_preds)\n",
    "pass_3_acc = accuracy_score(y_test, pass_3_preds)\n",
    "\n",
    "naive_pred_f_05 = 0.292\n",
    "unoptimized_f_05 = fbeta_score(y_test, unoptimized_preds, beta = 0.5)\n",
    "pass_1_f_05 = fbeta_score(y_test, pass_1_preds, beta = 0.5)\n",
    "pass_2_f_05 = fbeta_score(y_test, pass_2_preds, beta = 0.5)\n",
    "pass_3_f_05 = fbeta_score(y_test, pass_3_preds, beta = 0.5)"
   ]
  },
  {
   "cell_type": "markdown",
   "metadata": {},
   "source": [
    "As shown in the scores calculated and then tabulated above, an unoptimized model is surprisingly good. The unoptimized model outperformed all models tuned during the Pass 1 and it outperformed all models in Pass 2 on F-score.\n",
    "\n",
    "The best model constructed during Pass 3, however, outperformed the unoptimized model on both metrics."
   ]
  },
  {
   "cell_type": "markdown",
   "metadata": {},
   "source": [
    "## Feature Importances"
   ]
  },
  {
   "cell_type": "code",
   "execution_count": null,
   "metadata": {},
   "outputs": [],
   "source": [
    "def feature_plot(importances, X_train, y_train):\n",
    "    indices = np.argsort(importances)[::-1]\n",
    "    columns = X_train.columns.values[indices[:5]]\n",
    "    values = importances[indices][:5]\n",
    "\n",
    "    # Creat the plot\n",
    "    fig = plt.figure(figsize = (12,6))\n",
    "    plt.title(\"Normalized Weights for First Five Most Predictive Features\", fontsize = 16)\n",
    "    plt.bar(np.arange(5), values, width = 0.6, align=\"center\",\n",
    "            label = \"Feature Weight\")\n",
    "    plt.bar(np.arange(5) - 0.3, np.cumsum(values), width = 0.2, align = \"center\",\n",
    "            label = \"Cumulative Feature Weight\")\n",
    "    \n",
    "    plt.xticks(np.arange(5), columns)\n",
    "    plt.xlim((-0.5, 4.5))\n",
    "    plt.ylim([0,1])\n",
    "    \n",
    "    plt.ylabel(\"Weight\", fontsize = 12)\n",
    "    plt.xlabel(\"Feature\", fontsize = 12)\n",
    "    \n",
    "    plt.legend(\n",
    "    fancybox=True,\n",
    "    loc=9,\n",
    "    ncol=4,\n",
    "    facecolor='white',\n",
    "    edgecolor='white',\n",
    "    framealpha=1,\n",
    "    fontsize=12)\n",
    "    \n",
    "    for spine in plt.gca().spines.values():\n",
    "        spine.set_visible(False);\n",
    "        \n",
    "    plt.tick_params(\n",
    "        axis='x',\n",
    "        bottom=False)\n",
    "    plt.tick_params(\n",
    "        axis='y',\n",
    "        left=False,\n",
    "        right=False,\n",
    "        labelleft=False)\n",
    "    \n",
    "    rects = plt.gca().patches\n",
    "    for n, r in enumerate(rects):\n",
    "        height = r.get_height()\n",
    "        plt.gca().text(r.get_x() + r.get_width() / 2,\n",
    "                       height+.025,\n",
    "                       '{:1.2f}'.format(height),\n",
    "                       ha='center',\n",
    "                       va='center')\n",
    "    \n",
    "    plt.tight_layout()"
   ]
  },
  {
   "cell_type": "code",
   "execution_count": null,
   "metadata": {},
   "outputs": [],
   "source": [
    "importances = pass_3_grid_fit.best_estimator_.feature_importances_\n",
    "feature_plot(importances, X_train, y_train)"
   ]
  },
  {
   "cell_type": "markdown",
   "metadata": {},
   "source": [
    "Some of the most important features are intuitive. Others are not.\n",
    "\n",
    "- I expect that people who are financially sophisticated enough to report their capital gains and capital losses would also have relatively high earning potential.\n",
    "\n",
    "- I would also expect that more educated and older individuals to have increased earning potential.\n",
    "\n",
    "- It is surprising to me that being married is the most important factor. I would have expected it to be important, but less important than the other factors in the top 5."
   ]
  },
  {
   "cell_type": "markdown",
   "metadata": {},
   "source": [
    "### Feature Selection\n",
    "\n",
    "The top-five most important features are shown in the graph above and listed below.\n",
    "\n",
    "- marital-status_Married-civ-spouse - Binary, whether individual is married and civil with their spouse.\n",
    "- capital-gain - Continuous, how much capital gain the individual reported.\n",
    "- education-num - Categorical, a proxy for how well-educated the person is.\n",
    "- capital-loss - Continuous, how much capital loss the individual reported.\n",
    "- age - Discrete, how old the individual is."
   ]
  },
  {
   "cell_type": "code",
   "execution_count": null,
   "metadata": {},
   "outputs": [],
   "source": [
    "from sklearn.base import clone\n",
    "\n",
    "X_train_reduced = X_train[X_train.columns.values[(np.argsort(importances)[::-1])[:5]]]\n",
    "X_test_reduced = X_test[X_test.columns.values[(np.argsort(importances)[::-1])[:5]]]\n",
    "\n",
    "reduced_clf = ((clone(pass_3_grid_fit.best_estimator_))\n",
    "               .fit(X_train_reduced, y_train.values.ravel()))\n",
    "\n",
    "reduced_predictions = reduced_clf.predict(X_test_reduced)\n",
    "\n",
    "reduced_acc = accuracy_score(y_test, reduced_predictions)\n",
    "reduced_f_05 = fbeta_score(y_test, reduced_predictions, beta = 0.5)"
   ]
  },
  {
   "cell_type": "markdown",
   "metadata": {},
   "source": [
    "The fully-optimized model performs slightly worse when trained on only the top five features tabulated above. Notably, it does perform worse than an unoptimized model trained on all the data, however. In this situation, training is not time- or resource-prohibitive, so there is not much sense in limiting the feature space to anything less than the full dataset.\n",
    "\n",
    "I can imagine situations where this is not the case, however, and it is necessary to reduce the dimensionality of the training data even if there is a small negative impact to overall model performance."
   ]
  },
  {
   "cell_type": "code",
   "execution_count": null,
   "metadata": {},
   "outputs": [],
   "source": []
  },
  {
   "cell_type": "code",
   "execution_count": null,
   "metadata": {},
   "outputs": [],
   "source": []
  }
 ],
 "metadata": {
  "kernelspec": {
   "display_name": "Python 3",
   "language": "python",
   "name": "python3"
  },
  "language_info": {
   "codemirror_mode": {
    "name": "ipython",
    "version": 3
   },
   "file_extension": ".py",
   "mimetype": "text/x-python",
   "name": "python",
   "nbconvert_exporter": "python",
   "pygments_lexer": "ipython3",
   "version": "3.8.3"
  }
 },
 "nbformat": 4,
 "nbformat_minor": 4
}
